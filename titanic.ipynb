{
 "cells": [
  {
   "cell_type": "markdown",
   "metadata": {},
   "source": [
    "# **Importation**"
   ]
  },
  {
   "cell_type": "code",
   "execution_count": 186,
   "metadata": {},
   "outputs": [],
   "source": [
    "# Importation des librairies\n",
    "import pandas as pd\n",
    "import numpy as np\n",
    "import seaborn as sns\n",
    "import matplotlib.pyplot as plt\n",
    "\n",
    "#data split\n",
    "from sklearn.model_selection import train_test_split\n",
    "#encondage des donnees\n",
    "from sklearn.preprocessing import LabelEncoder\n",
    "# Standarisation des donnees\n",
    "from sklearn.preprocessing import StandardScaler\n",
    "# detection des outliers\n",
    "from datasist.structdata import detect_outliers\n",
    "#imblance data\n",
    "from imblearn.over_sampling import SMOTE\n",
    "\n",
    "# machine learning model \n",
    "from sklearn.impute import SimpleImputer\n",
    "from sklearn.linear_model import LogisticRegression\n",
    "from sklearn.svm import SVC, LinearSVC\n",
    "from sklearn.ensemble import RandomForestClassifier\n",
    "from sklearn.neighbors import KNeighborsClassifier\n",
    "from sklearn.tree import DecisionTreeClassifier\n",
    "\n",
    "# evaluation de model\n",
    "from sklearn.metrics import accuracy_score, confusion_matrix, classification_report\n",
    "# enrengistrement de model\n",
    "import pickle"
   ]
  },
  {
   "cell_type": "markdown",
   "metadata": {},
   "source": [
    "# 1 -  **EDA (Data Exploration)**"
   ]
  },
  {
   "cell_type": "code",
   "execution_count": 187,
   "metadata": {},
   "outputs": [],
   "source": [
    "df = pd.read_csv('titanic.csv')"
   ]
  },
  {
   "cell_type": "code",
   "execution_count": 188,
   "metadata": {},
   "outputs": [
    {
     "data": {
      "text/html": [
       "<div>\n",
       "<style scoped>\n",
       "    .dataframe tbody tr th:only-of-type {\n",
       "        vertical-align: middle;\n",
       "    }\n",
       "\n",
       "    .dataframe tbody tr th {\n",
       "        vertical-align: top;\n",
       "    }\n",
       "\n",
       "    .dataframe thead th {\n",
       "        text-align: right;\n",
       "    }\n",
       "</style>\n",
       "<table border=\"1\" class=\"dataframe\">\n",
       "  <thead>\n",
       "    <tr style=\"text-align: right;\">\n",
       "      <th></th>\n",
       "      <th>PassengerId</th>\n",
       "      <th>Survived</th>\n",
       "      <th>Pclass</th>\n",
       "      <th>Name</th>\n",
       "      <th>Sex</th>\n",
       "      <th>Age</th>\n",
       "      <th>SibSp</th>\n",
       "      <th>Parch</th>\n",
       "      <th>Ticket</th>\n",
       "      <th>Fare</th>\n",
       "      <th>Cabin</th>\n",
       "      <th>Embarked</th>\n",
       "    </tr>\n",
       "  </thead>\n",
       "  <tbody>\n",
       "    <tr>\n",
       "      <th>0</th>\n",
       "      <td>892</td>\n",
       "      <td>0</td>\n",
       "      <td>3</td>\n",
       "      <td>Kelly, Mr. James</td>\n",
       "      <td>male</td>\n",
       "      <td>34.5</td>\n",
       "      <td>0</td>\n",
       "      <td>0</td>\n",
       "      <td>330911</td>\n",
       "      <td>7.8292</td>\n",
       "      <td>NaN</td>\n",
       "      <td>Q</td>\n",
       "    </tr>\n",
       "    <tr>\n",
       "      <th>1</th>\n",
       "      <td>893</td>\n",
       "      <td>1</td>\n",
       "      <td>3</td>\n",
       "      <td>Wilkes, Mrs. James (Ellen Needs)</td>\n",
       "      <td>female</td>\n",
       "      <td>47.0</td>\n",
       "      <td>1</td>\n",
       "      <td>0</td>\n",
       "      <td>363272</td>\n",
       "      <td>7.0000</td>\n",
       "      <td>NaN</td>\n",
       "      <td>S</td>\n",
       "    </tr>\n",
       "    <tr>\n",
       "      <th>2</th>\n",
       "      <td>894</td>\n",
       "      <td>0</td>\n",
       "      <td>2</td>\n",
       "      <td>Myles, Mr. Thomas Francis</td>\n",
       "      <td>male</td>\n",
       "      <td>62.0</td>\n",
       "      <td>0</td>\n",
       "      <td>0</td>\n",
       "      <td>240276</td>\n",
       "      <td>9.6875</td>\n",
       "      <td>NaN</td>\n",
       "      <td>Q</td>\n",
       "    </tr>\n",
       "    <tr>\n",
       "      <th>3</th>\n",
       "      <td>895</td>\n",
       "      <td>0</td>\n",
       "      <td>3</td>\n",
       "      <td>Wirz, Mr. Albert</td>\n",
       "      <td>male</td>\n",
       "      <td>27.0</td>\n",
       "      <td>0</td>\n",
       "      <td>0</td>\n",
       "      <td>315154</td>\n",
       "      <td>8.6625</td>\n",
       "      <td>NaN</td>\n",
       "      <td>S</td>\n",
       "    </tr>\n",
       "    <tr>\n",
       "      <th>4</th>\n",
       "      <td>896</td>\n",
       "      <td>1</td>\n",
       "      <td>3</td>\n",
       "      <td>Hirvonen, Mrs. Alexander (Helga E Lindqvist)</td>\n",
       "      <td>female</td>\n",
       "      <td>22.0</td>\n",
       "      <td>1</td>\n",
       "      <td>1</td>\n",
       "      <td>3101298</td>\n",
       "      <td>12.2875</td>\n",
       "      <td>NaN</td>\n",
       "      <td>S</td>\n",
       "    </tr>\n",
       "  </tbody>\n",
       "</table>\n",
       "</div>"
      ],
      "text/plain": [
       "   PassengerId  Survived  Pclass  \\\n",
       "0          892         0       3   \n",
       "1          893         1       3   \n",
       "2          894         0       2   \n",
       "3          895         0       3   \n",
       "4          896         1       3   \n",
       "\n",
       "                                           Name     Sex   Age  SibSp  Parch  \\\n",
       "0                              Kelly, Mr. James    male  34.5      0      0   \n",
       "1              Wilkes, Mrs. James (Ellen Needs)  female  47.0      1      0   \n",
       "2                     Myles, Mr. Thomas Francis    male  62.0      0      0   \n",
       "3                              Wirz, Mr. Albert    male  27.0      0      0   \n",
       "4  Hirvonen, Mrs. Alexander (Helga E Lindqvist)  female  22.0      1      1   \n",
       "\n",
       "    Ticket     Fare Cabin Embarked  \n",
       "0   330911   7.8292   NaN        Q  \n",
       "1   363272   7.0000   NaN        S  \n",
       "2   240276   9.6875   NaN        Q  \n",
       "3   315154   8.6625   NaN        S  \n",
       "4  3101298  12.2875   NaN        S  "
      ]
     },
     "execution_count": 188,
     "metadata": {},
     "output_type": "execute_result"
    }
   ],
   "source": [
    "df.head()"
   ]
  },
  {
   "cell_type": "code",
   "execution_count": 189,
   "metadata": {},
   "outputs": [
    {
     "name": "stdout",
     "output_type": "stream",
     "text": [
      "<class 'pandas.core.frame.DataFrame'>\n",
      "RangeIndex: 418 entries, 0 to 417\n",
      "Data columns (total 12 columns):\n",
      " #   Column       Non-Null Count  Dtype  \n",
      "---  ------       --------------  -----  \n",
      " 0   PassengerId  418 non-null    int64  \n",
      " 1   Survived     418 non-null    int64  \n",
      " 2   Pclass       418 non-null    int64  \n",
      " 3   Name         418 non-null    object \n",
      " 4   Sex          418 non-null    object \n",
      " 5   Age          332 non-null    float64\n",
      " 6   SibSp        418 non-null    int64  \n",
      " 7   Parch        418 non-null    int64  \n",
      " 8   Ticket       418 non-null    object \n",
      " 9   Fare         417 non-null    float64\n",
      " 10  Cabin        91 non-null     object \n",
      " 11  Embarked     418 non-null    object \n",
      "dtypes: float64(2), int64(5), object(5)\n",
      "memory usage: 39.3+ KB\n"
     ]
    }
   ],
   "source": [
    "df.info()"
   ]
  },
  {
   "cell_type": "code",
   "execution_count": 190,
   "metadata": {},
   "outputs": [
    {
     "data": {
      "text/plain": [
       "(418, 12)"
      ]
     },
     "execution_count": 190,
     "metadata": {},
     "output_type": "execute_result"
    }
   ],
   "source": [
    "df.shape"
   ]
  },
  {
   "cell_type": "code",
   "execution_count": 191,
   "metadata": {},
   "outputs": [
    {
     "data": {
      "text/plain": [
       "0"
      ]
     },
     "execution_count": 191,
     "metadata": {},
     "output_type": "execute_result"
    }
   ],
   "source": [
    "df.duplicated().sum()"
   ]
  },
  {
   "cell_type": "code",
   "execution_count": 192,
   "metadata": {},
   "outputs": [
    {
     "data": {
      "text/plain": [
       "int64      5\n",
       "object     5\n",
       "float64    2\n",
       "dtype: int64"
      ]
     },
     "execution_count": 192,
     "metadata": {},
     "output_type": "execute_result"
    }
   ],
   "source": [
    "df.dtypes.value_counts()\n"
   ]
  },
  {
   "cell_type": "code",
   "execution_count": 193,
   "metadata": {},
   "outputs": [
    {
     "name": "stdout",
     "output_type": "stream",
     "text": [
      "PassengerId      0\n",
      "Survived         0\n",
      "Pclass           0\n",
      "Name             0\n",
      "Sex              0\n",
      "Age             86\n",
      "SibSp            0\n",
      "Parch            0\n",
      "Ticket           0\n",
      "Fare             1\n",
      "Cabin          327\n",
      "Embarked         0\n",
      "dtype: int64\n"
     ]
    }
   ],
   "source": [
    "print(df.isnull().sum())"
   ]
  },
  {
   "cell_type": "code",
   "execution_count": 194,
   "metadata": {},
   "outputs": [
    {
     "data": {
      "text/html": [
       "<div>\n",
       "<style scoped>\n",
       "    .dataframe tbody tr th:only-of-type {\n",
       "        vertical-align: middle;\n",
       "    }\n",
       "\n",
       "    .dataframe tbody tr th {\n",
       "        vertical-align: top;\n",
       "    }\n",
       "\n",
       "    .dataframe thead th {\n",
       "        text-align: right;\n",
       "    }\n",
       "</style>\n",
       "<table border=\"1\" class=\"dataframe\">\n",
       "  <thead>\n",
       "    <tr style=\"text-align: right;\">\n",
       "      <th></th>\n",
       "      <th>PassengerId</th>\n",
       "      <th>Survived</th>\n",
       "      <th>Pclass</th>\n",
       "      <th>Age</th>\n",
       "      <th>SibSp</th>\n",
       "      <th>Parch</th>\n",
       "      <th>Fare</th>\n",
       "    </tr>\n",
       "  </thead>\n",
       "  <tbody>\n",
       "    <tr>\n",
       "      <th>count</th>\n",
       "      <td>418.000000</td>\n",
       "      <td>418.000000</td>\n",
       "      <td>418.000000</td>\n",
       "      <td>332.000000</td>\n",
       "      <td>418.000000</td>\n",
       "      <td>418.000000</td>\n",
       "      <td>417.000000</td>\n",
       "    </tr>\n",
       "    <tr>\n",
       "      <th>mean</th>\n",
       "      <td>1100.500000</td>\n",
       "      <td>0.363636</td>\n",
       "      <td>2.265550</td>\n",
       "      <td>30.272590</td>\n",
       "      <td>0.447368</td>\n",
       "      <td>0.392344</td>\n",
       "      <td>35.627188</td>\n",
       "    </tr>\n",
       "    <tr>\n",
       "      <th>std</th>\n",
       "      <td>120.810458</td>\n",
       "      <td>0.481622</td>\n",
       "      <td>0.841838</td>\n",
       "      <td>14.181209</td>\n",
       "      <td>0.896760</td>\n",
       "      <td>0.981429</td>\n",
       "      <td>55.907576</td>\n",
       "    </tr>\n",
       "    <tr>\n",
       "      <th>min</th>\n",
       "      <td>892.000000</td>\n",
       "      <td>0.000000</td>\n",
       "      <td>1.000000</td>\n",
       "      <td>0.170000</td>\n",
       "      <td>0.000000</td>\n",
       "      <td>0.000000</td>\n",
       "      <td>0.000000</td>\n",
       "    </tr>\n",
       "    <tr>\n",
       "      <th>25%</th>\n",
       "      <td>996.250000</td>\n",
       "      <td>0.000000</td>\n",
       "      <td>1.000000</td>\n",
       "      <td>21.000000</td>\n",
       "      <td>0.000000</td>\n",
       "      <td>0.000000</td>\n",
       "      <td>7.895800</td>\n",
       "    </tr>\n",
       "    <tr>\n",
       "      <th>50%</th>\n",
       "      <td>1100.500000</td>\n",
       "      <td>0.000000</td>\n",
       "      <td>3.000000</td>\n",
       "      <td>27.000000</td>\n",
       "      <td>0.000000</td>\n",
       "      <td>0.000000</td>\n",
       "      <td>14.454200</td>\n",
       "    </tr>\n",
       "    <tr>\n",
       "      <th>75%</th>\n",
       "      <td>1204.750000</td>\n",
       "      <td>1.000000</td>\n",
       "      <td>3.000000</td>\n",
       "      <td>39.000000</td>\n",
       "      <td>1.000000</td>\n",
       "      <td>0.000000</td>\n",
       "      <td>31.500000</td>\n",
       "    </tr>\n",
       "    <tr>\n",
       "      <th>max</th>\n",
       "      <td>1309.000000</td>\n",
       "      <td>1.000000</td>\n",
       "      <td>3.000000</td>\n",
       "      <td>76.000000</td>\n",
       "      <td>8.000000</td>\n",
       "      <td>9.000000</td>\n",
       "      <td>512.329200</td>\n",
       "    </tr>\n",
       "  </tbody>\n",
       "</table>\n",
       "</div>"
      ],
      "text/plain": [
       "       PassengerId    Survived      Pclass         Age       SibSp  \\\n",
       "count   418.000000  418.000000  418.000000  332.000000  418.000000   \n",
       "mean   1100.500000    0.363636    2.265550   30.272590    0.447368   \n",
       "std     120.810458    0.481622    0.841838   14.181209    0.896760   \n",
       "min     892.000000    0.000000    1.000000    0.170000    0.000000   \n",
       "25%     996.250000    0.000000    1.000000   21.000000    0.000000   \n",
       "50%    1100.500000    0.000000    3.000000   27.000000    0.000000   \n",
       "75%    1204.750000    1.000000    3.000000   39.000000    1.000000   \n",
       "max    1309.000000    1.000000    3.000000   76.000000    8.000000   \n",
       "\n",
       "            Parch        Fare  \n",
       "count  418.000000  417.000000  \n",
       "mean     0.392344   35.627188  \n",
       "std      0.981429   55.907576  \n",
       "min      0.000000    0.000000  \n",
       "25%      0.000000    7.895800  \n",
       "50%      0.000000   14.454200  \n",
       "75%      0.000000   31.500000  \n",
       "max      9.000000  512.329200  "
      ]
     },
     "execution_count": 194,
     "metadata": {},
     "output_type": "execute_result"
    }
   ],
   "source": [
    "df.describe()"
   ]
  },
  {
   "cell_type": "code",
   "execution_count": 195,
   "metadata": {},
   "outputs": [
    {
     "data": {
      "text/plain": [
       "PassengerId     0.000000\n",
       "Survived        0.000000\n",
       "Pclass          0.000000\n",
       "Name            0.000000\n",
       "Sex             0.000000\n",
       "Age            20.574163\n",
       "SibSp           0.000000\n",
       "Parch           0.000000\n",
       "Ticket          0.000000\n",
       "Fare            0.239234\n",
       "Cabin          78.229665\n",
       "Embarked        0.000000\n",
       "dtype: float64"
      ]
     },
     "execution_count": 195,
     "metadata": {},
     "output_type": "execute_result"
    }
   ],
   "source": [
    "( df.isna().sum() / df.shape[0] * 100)\n"
   ]
  },
  {
   "cell_type": "code",
   "execution_count": 196,
   "metadata": {},
   "outputs": [
    {
     "data": {
      "text/plain": [
       "<Axes: >"
      ]
     },
     "execution_count": 196,
     "metadata": {},
     "output_type": "execute_result"
    },
    {
     "data": {
      "image/png": "[encoded data removed]",
      "text/plain": [
       "<Figure size 2000x1000 with 1 Axes>"
      ]
     },
     "metadata": {},
     "output_type": "display_data"
    }
   ],
   "source": [
    "plt.figure(figsize=(20,10))\n",
    "sns.heatmap(df.isna(), cbar=False)"
   ]
  },
  {
   "cell_type": "code",
   "execution_count": 197,
   "metadata": {},
   "outputs": [
    {
     "name": "stdout",
     "output_type": "stream",
     "text": [
      "0\n",
      "1\n"
     ]
    }
   ],
   "source": [
    "for review in df['Survived'].unique():\n",
    "    print(review)"
   ]
  },
  {
   "cell_type": "code",
   "execution_count": 198,
   "metadata": {},
   "outputs": [
    {
     "name": "stdout",
     "output_type": "stream",
     "text": [
      "3\n",
      "2\n",
      "1\n"
     ]
    }
   ],
   "source": [
    "for review in df['Pclass'].unique():\n",
    "    print(review)"
   ]
  },
  {
   "cell_type": "code",
   "execution_count": 199,
   "metadata": {},
   "outputs": [
    {
     "name": "stdout",
     "output_type": "stream",
     "text": [
      "male\n",
      "female\n"
     ]
    }
   ],
   "source": [
    "for review in df['Sex'].unique():\n",
    "    print(review)"
   ]
  },
  {
   "cell_type": "code",
   "execution_count": 200,
   "metadata": {},
   "outputs": [
    {
     "name": "stdout",
     "output_type": "stream",
     "text": [
      "34.5\n",
      "47.0\n",
      "62.0\n",
      "27.0\n",
      "22.0\n",
      "14.0\n",
      "30.0\n",
      "26.0\n",
      "18.0\n",
      "21.0\n",
      "nan\n",
      "46.0\n",
      "23.0\n",
      "63.0\n",
      "24.0\n",
      "35.0\n",
      "45.0\n",
      "55.0\n",
      "9.0\n",
      "48.0\n",
      "50.0\n",
      "22.5\n",
      "41.0\n",
      "33.0\n",
      "18.5\n",
      "25.0\n",
      "39.0\n",
      "60.0\n",
      "36.0\n",
      "20.0\n",
      "28.0\n",
      "10.0\n",
      "17.0\n",
      "32.0\n",
      "13.0\n",
      "31.0\n",
      "29.0\n",
      "28.5\n",
      "32.5\n",
      "6.0\n",
      "67.0\n",
      "49.0\n",
      "2.0\n",
      "76.0\n",
      "43.0\n",
      "16.0\n",
      "1.0\n",
      "12.0\n",
      "42.0\n",
      "53.0\n",
      "26.5\n",
      "40.0\n",
      "61.0\n",
      "60.5\n",
      "7.0\n",
      "15.0\n",
      "54.0\n",
      "64.0\n",
      "37.0\n",
      "34.0\n",
      "11.5\n",
      "8.0\n",
      "0.33\n",
      "38.0\n",
      "57.0\n",
      "40.5\n",
      "0.92\n",
      "19.0\n",
      "36.5\n",
      "0.75\n",
      "0.83\n",
      "58.0\n",
      "0.17\n",
      "59.0\n",
      "14.5\n",
      "44.0\n",
      "5.0\n",
      "51.0\n",
      "3.0\n",
      "38.5\n"
     ]
    }
   ],
   "source": [
    "for review in df['Age'].unique():\n",
    "    print(review)"
   ]
  },
  {
   "cell_type": "code",
   "execution_count": 201,
   "metadata": {},
   "outputs": [
    {
     "name": "stdout",
     "output_type": "stream",
     "text": [
      "0\n",
      "1\n",
      "2\n",
      "3\n",
      "4\n",
      "5\n",
      "8\n"
     ]
    }
   ],
   "source": [
    "for review in df['SibSp'].unique():\n",
    "    print(review)"
   ]
  },
  {
   "cell_type": "code",
   "execution_count": 202,
   "metadata": {},
   "outputs": [
    {
     "name": "stdout",
     "output_type": "stream",
     "text": [
      "330911\n",
      "363272\n",
      "240276\n",
      "315154\n",
      "3101298\n",
      "7538\n",
      "330972\n",
      "248738\n",
      "2657\n",
      "A/4 48871\n",
      "349220\n",
      "694\n",
      "21228\n",
      "24065\n",
      "W.E.P. 5734\n",
      "SC/PARIS 2167\n",
      "233734\n",
      "2692\n",
      "STON/O2. 3101270\n",
      "2696\n",
      "PC 17603\n",
      "C 17368\n",
      "PC 17598\n",
      "PC 17597\n",
      "PC 17608\n",
      "A/5. 3337\n",
      "113509\n",
      "2698\n",
      "113054\n",
      "2662\n",
      "SC/AH 3085\n",
      "C.A. 31029\n",
      "C.A. 2315\n",
      "W./C. 6607\n",
      "13236\n",
      "2682\n",
      "342712\n",
      "315087\n",
      "345768\n",
      "1601\n",
      "349256\n",
      "113778\n",
      "SOTON/O.Q. 3101263\n",
      "237249\n",
      "11753\n",
      "STON/O 2. 3101291\n",
      "PC 17594\n",
      "370374\n",
      "11813\n",
      "C.A. 37671\n",
      "13695\n",
      "SC/PARIS 2168\n",
      "29105\n",
      "19950\n",
      "SC/A.3 2861\n",
      "382652\n",
      "349230\n",
      "348122\n",
      "386525\n",
      "349232\n",
      "237216\n",
      "347090\n",
      "334914\n",
      "F.C.C. 13534\n",
      "330963\n",
      "113796\n",
      "2543\n",
      "382653\n",
      "349211\n",
      "3101297\n",
      "PC 17562\n",
      "113503\n",
      "359306\n",
      "11770\n",
      "248744\n",
      "368702\n",
      "2678\n",
      "PC 17483\n",
      "19924\n",
      "349238\n",
      "240261\n",
      "2660\n",
      "330844\n",
      "A/4 31416\n",
      "364856\n",
      "29103\n",
      "347072\n",
      "345498\n",
      "F.C. 12750\n",
      "376563\n",
      "13905\n",
      "350033\n",
      "19877\n",
      "STON/O 2. 3101268\n",
      "347471\n",
      "A./5. 3338\n",
      "11778\n",
      "228414\n",
      "365235\n",
      "347070\n",
      "2625\n",
      "C 4001\n",
      "330920\n",
      "383162\n",
      "3410\n",
      "248734\n",
      "237734\n",
      "330968\n",
      "PC 17531\n",
      "329944\n",
      "2680\n",
      "2681\n",
      "PP 9549\n",
      "13050\n",
      "SC/AH 29037\n",
      "C.A. 33595\n",
      "367227\n",
      "392095\n",
      "368783\n",
      "371362\n",
      "350045\n",
      "367226\n",
      "211535\n",
      "342441\n",
      "STON/OQ. 369943\n",
      "113780\n",
      "4133\n",
      "2621\n",
      "349226\n",
      "350409\n",
      "2656\n",
      "248659\n",
      "SOTON/OQ 392083\n",
      "CA 2144\n",
      "113781\n",
      "244358\n",
      "17475\n",
      "345763\n",
      "17463\n",
      "SC/A4 23568\n",
      "113791\n",
      "250651\n",
      "11767\n",
      "349255\n",
      "3701\n",
      "350405\n",
      "347077\n",
      "S.O./P.P. 752\n",
      "347469\n",
      "110489\n",
      "SOTON/O.Q. 3101315\n",
      "335432\n",
      "2650\n",
      "220844\n",
      "343271\n",
      "237393\n",
      "315153\n",
      "PC 17591\n",
      "W./C. 6608\n",
      "17770\n",
      "7548\n",
      "S.O./P.P. 251\n",
      "2670\n",
      "2673\n",
      "29750\n",
      "C.A. 33112\n",
      "230136\n",
      "PC 17756\n",
      "233478\n",
      "113773\n",
      "7935\n",
      "PC 17558\n",
      "239059\n",
      "S.O./P.P. 2\n",
      "A/4 48873\n",
      "CA. 2343\n",
      "28221\n",
      "226875\n",
      "111163\n",
      "A/5. 851\n",
      "235509\n",
      "28220\n",
      "347465\n",
      "16966\n",
      "347066\n",
      "C.A. 31030\n",
      "65305\n",
      "36568\n",
      "347080\n",
      "PC 17757\n",
      "26360\n",
      "C.A. 34050\n",
      "F.C. 12998\n",
      "9232\n",
      "28034\n",
      "PC 17613\n",
      "349250\n",
      "SOTON/O.Q. 3101308\n",
      "S.O.C. 14879\n",
      "347091\n",
      "113038\n",
      "330924\n",
      "36928\n",
      "32302\n",
      "SC/PARIS 2148\n",
      "342684\n",
      "W./C. 14266\n",
      "350053\n",
      "PC 17606\n",
      "2661\n",
      "350054\n",
      "370368\n",
      "C.A. 6212\n",
      "242963\n",
      "220845\n",
      "113795\n",
      "3101266\n",
      "330971\n",
      "PC 17599\n",
      "350416\n",
      "110813\n",
      "2679\n",
      "250650\n",
      "PC 17761\n",
      "112377\n",
      "237789\n",
      "3470\n",
      "17464\n",
      "26707\n",
      "C.A. 34651\n",
      "SOTON/O2 3101284\n",
      "13508\n",
      "7266\n",
      "345775\n",
      "C.A. 42795\n",
      "AQ/4 3130\n",
      "363611\n",
      "28404\n",
      "345501\n",
      "345572\n",
      "350410\n",
      "C.A. 34644\n",
      "349235\n",
      "112051\n",
      "C.A. 49867\n",
      "A. 2. 39186\n",
      "315095\n",
      "368573\n",
      "370371\n",
      "2676\n",
      "236853\n",
      "SC 14888\n",
      "2926\n",
      "CA 31352\n",
      "W./C. 14260\n",
      "315085\n",
      "364859\n",
      "370129\n",
      "A/5 21175\n",
      "SOTON/O.Q. 3101314\n",
      "2655\n",
      "A/5 1478\n",
      "PC 17607\n",
      "382650\n",
      "2652\n",
      "33638\n",
      "345771\n",
      "349202\n",
      "SC/Paris 2123\n",
      "113801\n",
      "347467\n",
      "347079\n",
      "237735\n",
      "315092\n",
      "383123\n",
      "112901\n",
      "392091\n",
      "12749\n",
      "350026\n",
      "315091\n",
      "2658\n",
      "LP 1588\n",
      "368364\n",
      "PC 17760\n",
      "AQ/3. 30631\n",
      "PC 17569\n",
      "28004\n",
      "350408\n",
      "347075\n",
      "2654\n",
      "244368\n",
      "113790\n",
      "24160\n",
      "SOTON/O.Q. 3101309\n",
      "PC 17585\n",
      "2003\n",
      "236854\n",
      "PC 17580\n",
      "2684\n",
      "2653\n",
      "349229\n",
      "110469\n",
      "244360\n",
      "2675\n",
      "2622\n",
      "C.A. 15185\n",
      "350403\n",
      "PC 17755\n",
      "348125\n",
      "237670\n",
      "2688\n",
      "248726\n",
      "F.C.C. 13528\n",
      "PC 17759\n",
      "F.C.C. 13540\n",
      "113044\n",
      "11769\n",
      "1222\n",
      "368402\n",
      "349910\n",
      "S.C./PARIS 2079\n",
      "315083\n",
      "11765\n",
      "2689\n",
      "3101295\n",
      "112378\n",
      "SC/PARIS 2147\n",
      "28133\n",
      "112058\n",
      "248746\n",
      "315152\n",
      "29107\n",
      "680\n",
      "366713\n",
      "330910\n",
      "364498\n",
      "376566\n",
      "SC/PARIS 2159\n",
      "349911\n",
      "244346\n",
      "364858\n",
      "349909\n",
      "PC 17592\n",
      "C.A. 2673\n",
      "C.A. 30769\n",
      "371109\n",
      "13567\n",
      "347065\n",
      "21332\n",
      "28664\n",
      "113059\n",
      "17765\n",
      "SC/PARIS 2166\n",
      "28666\n",
      "334915\n",
      "365237\n",
      "19928\n",
      "347086\n",
      "A.5. 3236\n",
      "PC 17758\n",
      "SOTON/O.Q. 3101262\n",
      "359309\n",
      "2668\n"
     ]
    }
   ],
   "source": [
    "for review in df['Ticket'].unique():\n",
    "    print(review)"
   ]
  },
  {
   "cell_type": "code",
   "execution_count": 203,
   "metadata": {},
   "outputs": [
    {
     "name": "stdout",
     "output_type": "stream",
     "text": [
      "0\n",
      "1\n",
      "3\n",
      "2\n",
      "4\n",
      "6\n",
      "5\n",
      "9\n"
     ]
    }
   ],
   "source": [
    "for review in df['Parch'].unique():\n",
    "    print(review)"
   ]
  },
  {
   "cell_type": "code",
   "execution_count": 204,
   "metadata": {},
   "outputs": [
    {
     "name": "stdout",
     "output_type": "stream",
     "text": [
      "7.8292\n",
      "7.0\n",
      "9.6875\n",
      "8.6625\n",
      "12.2875\n",
      "9.225\n",
      "7.6292\n",
      "29.0\n",
      "7.2292\n",
      "24.15\n",
      "7.8958\n",
      "26.0\n",
      "82.2667\n",
      "61.175\n",
      "27.7208\n",
      "12.35\n",
      "7.225\n",
      "7.925\n",
      "59.4\n",
      "3.1708\n",
      "31.6833\n",
      "61.3792\n",
      "262.375\n",
      "14.5\n",
      "61.9792\n",
      "30.5\n",
      "21.6792\n",
      "31.5\n",
      "20.575\n",
      "23.45\n",
      "57.75\n",
      "8.05\n",
      "9.5\n",
      "56.4958\n",
      "13.4167\n",
      "26.55\n",
      "7.85\n",
      "13.0\n",
      "52.5542\n",
      "29.7\n",
      "7.75\n",
      "76.2917\n",
      "15.9\n",
      "60.0\n",
      "15.0333\n",
      "23.0\n",
      "263.0\n",
      "15.5792\n",
      "29.125\n",
      "7.65\n",
      "16.1\n",
      "13.5\n",
      "7.725\n",
      "21.0\n",
      "7.8792\n",
      "42.4\n",
      "28.5375\n",
      "211.5\n",
      "25.7\n",
      "15.2458\n",
      "221.7792\n",
      "10.7083\n",
      "14.4542\n",
      "13.9\n",
      "7.775\n",
      "52.0\n",
      "7.7958\n",
      "78.85\n",
      "7.8542\n",
      "55.4417\n",
      "8.5167\n",
      "22.525\n",
      "7.8208\n",
      "8.7125\n",
      "15.0458\n",
      "7.7792\n",
      "31.6792\n",
      "7.2833\n",
      "6.4375\n",
      "16.7\n",
      "75.2417\n",
      "15.75\n",
      "7.25\n",
      "23.25\n",
      "28.5\n",
      "25.4667\n",
      "46.9\n",
      "151.55\n",
      "18.0\n",
      "51.8625\n",
      "83.1583\n",
      "nan\n",
      "12.1833\n",
      "31.3875\n",
      "7.55\n",
      "13.775\n",
      "7.7333\n",
      "22.025\n",
      "50.4958\n",
      "34.375\n",
      "8.9625\n",
      "39.0\n",
      "36.75\n",
      "53.1\n",
      "247.5208\n",
      "16.0\n",
      "69.55\n",
      "32.5\n",
      "134.5\n",
      "10.5\n",
      "8.1125\n",
      "15.5\n",
      "14.4\n",
      "227.525\n",
      "25.7417\n",
      "7.05\n",
      "73.5\n",
      "42.5\n",
      "164.8667\n",
      "13.8583\n",
      "27.4458\n",
      "15.1\n",
      "65.0\n",
      "6.4958\n",
      "71.2833\n",
      "75.25\n",
      "106.425\n",
      "30.0\n",
      "7.8875\n",
      "27.75\n",
      "136.7792\n",
      "9.325\n",
      "17.4\n",
      "12.7375\n",
      "0.0\n",
      "20.2125\n",
      "39.6\n",
      "6.95\n",
      "81.8583\n",
      "41.5792\n",
      "45.5\n",
      "9.35\n",
      "93.5\n",
      "14.1083\n",
      "7.575\n",
      "135.6333\n",
      "146.5208\n",
      "211.3375\n",
      "79.2\n",
      "15.7417\n",
      "7.5792\n",
      "512.3292\n",
      "63.3583\n",
      "51.4792\n",
      "15.55\n",
      "37.0042\n",
      "14.4583\n",
      "39.6875\n",
      "11.5\n",
      "50.0\n",
      "12.875\n",
      "21.075\n",
      "39.4\n",
      "20.25\n",
      "47.1\n",
      "13.8625\n",
      "7.7208\n",
      "90.0\n",
      "108.9\n",
      "22.3583\n"
     ]
    }
   ],
   "source": [
    "for review in df['Fare'].unique():\n",
    "    print(review)"
   ]
  },
  {
   "cell_type": "code",
   "execution_count": 205,
   "metadata": {},
   "outputs": [
    {
     "name": "stdout",
     "output_type": "stream",
     "text": [
      "Q\n",
      "S\n",
      "C\n"
     ]
    }
   ],
   "source": [
    "for review in df['Embarked'].unique():\n",
    "    print(review)"
   ]
  },
  {
   "cell_type": "code",
   "execution_count": 206,
   "metadata": {},
   "outputs": [
    {
     "name": "stdout",
     "output_type": "stream",
     "text": [
      "Kelly, Mr. James\n",
      "Wilkes, Mrs. James (Ellen Needs)\n",
      "Myles, Mr. Thomas Francis\n",
      "Wirz, Mr. Albert\n",
      "Hirvonen, Mrs. Alexander (Helga E Lindqvist)\n",
      "Svensson, Mr. Johan Cervin\n",
      "Connolly, Miss. Kate\n",
      "Caldwell, Mr. Albert Francis\n",
      "Abrahim, Mrs. Joseph (Sophie Halaut Easu)\n",
      "Davies, Mr. John Samuel\n",
      "Ilieff, Mr. Ylio\n",
      "Jones, Mr. Charles Cresson\n",
      "Snyder, Mrs. John Pillsbury (Nelle Stevenson)\n",
      "Howard, Mr. Benjamin\n",
      "Chaffee, Mrs. Herbert Fuller (Carrie Constance Toogood)\n",
      "del Carlo, Mrs. Sebastiano (Argenia Genovesi)\n",
      "Keane, Mr. Daniel\n",
      "Assaf, Mr. Gerios\n",
      "Ilmakangas, Miss. Ida Livija\n",
      "Assaf Khalil, Mrs. Mariana (Miriam\")\"\n",
      "Rothschild, Mr. Martin\n",
      "Olsen, Master. Artur Karl\n",
      "Flegenheim, Mrs. Alfred (Antoinette)\n",
      "Williams, Mr. Richard Norris II\n",
      "Ryerson, Mrs. Arthur Larned (Emily Maria Borie)\n",
      "Robins, Mr. Alexander A\n",
      "Ostby, Miss. Helene Ragnhild\n",
      "Daher, Mr. Shedid\n",
      "Brady, Mr. John Bertram\n",
      "Samaan, Mr. Elias\n",
      "Louch, Mr. Charles Alexander\n",
      "Jefferys, Mr. Clifford Thomas\n",
      "Dean, Mrs. Bertram (Eva Georgetta Light)\n",
      "Johnston, Mrs. Andrew G (Elizabeth Lily\" Watson)\"\n",
      "Mock, Mr. Philipp Edmund\n",
      "Katavelas, Mr. Vassilios (Catavelas Vassilios\")\"\n",
      "Roth, Miss. Sarah A\n",
      "Cacic, Miss. Manda\n",
      "Sap, Mr. Julius\n",
      "Hee, Mr. Ling\n",
      "Karun, Mr. Franz\n",
      "Franklin, Mr. Thomas Parham\n",
      "Goldsmith, Mr. Nathan\n",
      "Corbett, Mrs. Walter H (Irene Colvin)\n",
      "Kimball, Mrs. Edwin Nelson Jr (Gertrude Parsons)\n",
      "Peltomaki, Mr. Nikolai Johannes\n",
      "Chevre, Mr. Paul Romaine\n",
      "Shaughnessy, Mr. Patrick\n",
      "Bucknell, Mrs. William Robert (Emma Eliza Ward)\n",
      "Coutts, Mrs. William (Winnie Minnie\" Treanor)\"\n",
      "Smith, Mr. Lucien Philip\n",
      "Pulbaum, Mr. Franz\n",
      "Hocking, Miss. Ellen Nellie\"\"\n",
      "Fortune, Miss. Ethel Flora\n",
      "Mangiavacchi, Mr. Serafino Emilio\n",
      "Rice, Master. Albert\n",
      "Cor, Mr. Bartol\n",
      "Abelseth, Mr. Olaus Jorgensen\n",
      "Davison, Mr. Thomas Henry\n",
      "Chaudanson, Miss. Victorine\n",
      "Dika, Mr. Mirko\n",
      "McCrae, Mr. Arthur Gordon\n",
      "Bjorklund, Mr. Ernst Herbert\n",
      "Bradley, Miss. Bridget Delia\n",
      "Ryerson, Master. John Borie\n",
      "Corey, Mrs. Percy C (Mary Phyllis Elizabeth Miller)\n",
      "Burns, Miss. Mary Delia\n",
      "Moore, Mr. Clarence Bloomfield\n",
      "Tucker, Mr. Gilbert Milligan Jr\n",
      "Fortune, Mrs. Mark (Mary McDougald)\n",
      "Mulvihill, Miss. Bertha E\n",
      "Minkoff, Mr. Lazar\n",
      "Nieminen, Miss. Manta Josefina\n",
      "Ovies y Rodriguez, Mr. Servando\n",
      "Geiger, Miss. Amalie\n",
      "Keeping, Mr. Edwin\n",
      "Miles, Mr. Frank\n",
      "Cornell, Mrs. Robert Clifford (Malvina Helen Lamson)\n",
      "Aldworth, Mr. Charles Augustus\n",
      "Doyle, Miss. Elizabeth\n",
      "Boulos, Master. Akar\n",
      "Straus, Mr. Isidor\n",
      "Case, Mr. Howard Brown\n",
      "Demetri, Mr. Marinko\n",
      "Lamb, Mr. John Joseph\n",
      "Khalil, Mr. Betros\n",
      "Barry, Miss. Julia\n",
      "Badman, Miss. Emily Louisa\n",
      "O'Donoghue, Ms. Bridget\n",
      "Wells, Master. Ralph Lester\n",
      "Dyker, Mrs. Adolf Fredrik (Anna Elisabeth Judith Andersson)\n",
      "Pedersen, Mr. Olaf\n",
      "Davidson, Mrs. Thornton (Orian Hays)\n",
      "Guest, Mr. Robert\n",
      "Birnbaum, Mr. Jakob\n",
      "Tenglin, Mr. Gunnar Isidor\n",
      "Cavendish, Mrs. Tyrell William (Julia Florence Siegel)\n",
      "Makinen, Mr. Kalle Edvard\n",
      "Braf, Miss. Elin Ester Maria\n",
      "Nancarrow, Mr. William Henry\n",
      "Stengel, Mrs. Charles Emil Henry (Annie May Morris)\n",
      "Weisz, Mr. Leopold\n",
      "Foley, Mr. William\n",
      "Johansson Palmquist, Mr. Oskar Leander\n",
      "Thomas, Mrs. Alexander (Thamine Thelma\")\"\n",
      "Holthen, Mr. Johan Martin\n",
      "Buckley, Mr. Daniel\n",
      "Ryan, Mr. Edward\n",
      "Willer, Mr. Aaron (Abi Weller\")\"\n",
      "Swane, Mr. George\n",
      "Stanton, Mr. Samuel Ward\n",
      "Shine, Miss. Ellen Natalia\n",
      "Evans, Miss. Edith Corse\n",
      "Buckley, Miss. Katherine\n",
      "Straus, Mrs. Isidor (Rosalie Ida Blun)\n",
      "Chronopoulos, Mr. Demetrios\n",
      "Thomas, Mr. John\n",
      "Sandstrom, Miss. Beatrice Irene\n",
      "Beattie, Mr. Thomson\n",
      "Chapman, Mrs. John Henry (Sara Elizabeth Lawry)\n",
      "Watt, Miss. Bertha J\n",
      "Kiernan, Mr. John\n",
      "Schabert, Mrs. Paul (Emma Mock)\n",
      "Carver, Mr. Alfred John\n",
      "Kennedy, Mr. John\n",
      "Cribb, Miss. Laura Alice\n",
      "Brobeck, Mr. Karl Rudolf\n",
      "McCoy, Miss. Alicia\n",
      "Bowenur, Mr. Solomon\n",
      "Petersen, Mr. Marius\n",
      "Spinner, Mr. Henry John\n",
      "Gracie, Col. Archibald IV\n",
      "Lefebre, Mrs. Frank (Frances)\n",
      "Thomas, Mr. Charles P\n",
      "Dintcheff, Mr. Valtcho\n",
      "Carlsson, Mr. Carl Robert\n",
      "Zakarian, Mr. Mapriededer\n",
      "Schmidt, Mr. August\n",
      "Drapkin, Miss. Jennie\n",
      "Goodwin, Mr. Charles Frederick\n",
      "Goodwin, Miss. Jessie Allis\n",
      "Daniels, Miss. Sarah\n",
      "Ryerson, Mr. Arthur Larned\n",
      "Beauchamp, Mr. Henry James\n",
      "Lindeberg-Lind, Mr. Erik Gustaf (Mr Edward Lingrey\")\"\n",
      "Vander Planke, Mr. Julius\n",
      "Hilliard, Mr. Herbert Henry\n",
      "Davies, Mr. Evan\n",
      "Crafton, Mr. John Bertram\n",
      "Lahtinen, Rev. William\n",
      "Earnshaw, Mrs. Boulton (Olive Potter)\n",
      "Matinoff, Mr. Nicola\n",
      "Storey, Mr. Thomas\n",
      "Klasen, Mrs. (Hulda Kristina Eugenia Lofqvist)\n",
      "Asplund, Master. Filip Oscar\n",
      "Duquemin, Mr. Joseph\n",
      "Bird, Miss. Ellen\n",
      "Lundin, Miss. Olga Elida\n",
      "Borebank, Mr. John James\n",
      "Peacock, Mrs. Benjamin (Edith Nile)\n",
      "Smyth, Miss. Julia\n",
      "Touma, Master. Georges Youssef\n",
      "Wright, Miss. Marion\n",
      "Pearce, Mr. Ernest\n",
      "Peruschitz, Rev. Joseph Maria\n",
      "Kink-Heilmann, Mrs. Anton (Luise Heilmann)\n",
      "Brandeis, Mr. Emil\n",
      "Ford, Mr. Edward Watson\n",
      "Cassebeer, Mrs. Henry Arthur Jr (Eleanor Genevieve Fosdick)\n",
      "Hellstrom, Miss. Hilda Maria\n",
      "Lithman, Mr. Simon\n",
      "Zakarian, Mr. Ortin\n",
      "Dyker, Mr. Adolf Fredrik\n",
      "Torfa, Mr. Assad\n",
      "Asplund, Mr. Carl Oscar Vilhelm Gustafsson\n",
      "Brown, Miss. Edith Eileen\n",
      "Sincock, Miss. Maude\n",
      "Stengel, Mr. Charles Emil Henry\n",
      "Becker, Mrs. Allen Oliver (Nellie E Baumgardner)\n",
      "Compton, Mrs. Alexander Taylor (Mary Eliza Ingersoll)\n",
      "McCrie, Mr. James Matthew\n",
      "Compton, Mr. Alexander Taylor Jr\n",
      "Marvin, Mrs. Daniel Warner (Mary Graham Carmichael Farquarson)\n",
      "Lane, Mr. Patrick\n",
      "Douglas, Mrs. Frederick Charles (Mary Helene Baxter)\n",
      "Maybery, Mr. Frank Hubert\n",
      "Phillips, Miss. Alice Frances Louisa\n",
      "Davies, Mr. Joseph\n",
      "Sage, Miss. Ada\n",
      "Veal, Mr. James\n",
      "Angle, Mr. William A\n",
      "Salomon, Mr. Abraham L\n",
      "van Billiard, Master. Walter John\n",
      "Lingane, Mr. John\n",
      "Drew, Master. Marshall Brines\n",
      "Karlsson, Mr. Julius Konrad Eugen\n",
      "Spedden, Master. Robert Douglas\n",
      "Nilsson, Miss. Berta Olivia\n",
      "Baimbrigge, Mr. Charles Robert\n",
      "Rasmussen, Mrs. (Lena Jacobsen Solvang)\n",
      "Murphy, Miss. Nora\n",
      "Danbom, Master. Gilbert Sigvard Emanuel\n",
      "Astor, Col. John Jacob\n",
      "Quick, Miss. Winifred Vera\n",
      "Andrew, Mr. Frank Thomas\n",
      "Omont, Mr. Alfred Fernand\n",
      "McGowan, Miss. Katherine\n",
      "Collett, Mr. Sidney C Stuart\n",
      "Rosenbaum, Miss. Edith Louise\n",
      "Delalic, Mr. Redjo\n",
      "Andersen, Mr. Albert Karvin\n",
      "Finoli, Mr. Luigi\n",
      "Deacon, Mr. Percy William\n",
      "Howard, Mrs. Benjamin (Ellen Truelove Arman)\n",
      "Andersson, Miss. Ida Augusta Margareta\n",
      "Head, Mr. Christopher\n",
      "Mahon, Miss. Bridget Delia\n",
      "Wick, Mr. George Dennick\n",
      "Widener, Mrs. George Dunton (Eleanor Elkins)\n",
      "Thomson, Mr. Alexander Morrison\n",
      "Duran y More, Miss. Florentina\n",
      "Reynolds, Mr. Harold J\n",
      "Cook, Mrs. (Selena Rogers)\n",
      "Karlsson, Mr. Einar Gervasius\n",
      "Candee, Mrs. Edward (Helen Churchill Hungerford)\n",
      "Moubarek, Mrs. George (Omine Amenia\" Alexander)\"\n",
      "Asplund, Mr. Johan Charles\n",
      "McNeill, Miss. Bridget\n",
      "Everett, Mr. Thomas James\n",
      "Hocking, Mr. Samuel James Metcalfe\n",
      "Sweet, Mr. George Frederick\n",
      "Willard, Miss. Constance\n",
      "Wiklund, Mr. Karl Johan\n",
      "Linehan, Mr. Michael\n",
      "Cumings, Mr. John Bradley\n",
      "Vendel, Mr. Olof Edvin\n",
      "Warren, Mr. Frank Manley\n",
      "Baccos, Mr. Raffull\n",
      "Hiltunen, Miss. Marta\n",
      "Douglas, Mrs. Walter Donald (Mahala Dutton)\n",
      "Lindstrom, Mrs. Carl Johan (Sigrid Posse)\n",
      "Christy, Mrs. (Alice Frances)\n",
      "Spedden, Mr. Frederic Oakley\n",
      "Hyman, Mr. Abraham\n",
      "Johnston, Master. William Arthur Willie\"\"\n",
      "Kenyon, Mr. Frederick R\n",
      "Karnes, Mrs. J Frank (Claire Bennett)\n",
      "Drew, Mr. James Vivian\n",
      "Hold, Mrs. Stephen (Annie Margaret Hill)\n",
      "Khalil, Mrs. Betros (Zahie Maria\" Elias)\"\n",
      "West, Miss. Barbara J\n",
      "Abrahamsson, Mr. Abraham August Johannes\n",
      "Clark, Mr. Walter Miller\n",
      "Salander, Mr. Karl Johan\n",
      "Wenzel, Mr. Linhart\n",
      "MacKay, Mr. George William\n",
      "Mahon, Mr. John\n",
      "Niklasson, Mr. Samuel\n",
      "Bentham, Miss. Lilian W\n",
      "Midtsjo, Mr. Karl Albert\n",
      "de Messemaeker, Mr. Guillaume Joseph\n",
      "Nilsson, Mr. August Ferdinand\n",
      "Wells, Mrs. Arthur Henry (Addie\" Dart Trevaskis)\"\n",
      "Klasen, Miss. Gertrud Emilia\n",
      "Portaluppi, Mr. Emilio Ilario Giuseppe\n",
      "Lyntakoff, Mr. Stanko\n",
      "Chisholm, Mr. Roderick Robert Crispin\n",
      "Warren, Mr. Charles William\n",
      "Howard, Miss. May Elizabeth\n",
      "Pokrnic, Mr. Mate\n",
      "McCaffry, Mr. Thomas Francis\n",
      "Fox, Mr. Patrick\n",
      "Clark, Mrs. Walter Miller (Virginia McDowell)\n",
      "Lennon, Miss. Mary\n",
      "Saade, Mr. Jean Nassr\n",
      "Bryhl, Miss. Dagmar Jenny Ingeborg \n",
      "Parker, Mr. Clifford Richard\n",
      "Faunthorpe, Mr. Harry\n",
      "Ware, Mr. John James\n",
      "Oxenham, Mr. Percy Thomas\n",
      "Oreskovic, Miss. Jelka\n",
      "Peacock, Master. Alfred Edward\n",
      "Fleming, Miss. Honora\n",
      "Touma, Miss. Maria Youssef\n",
      "Rosblom, Miss. Salli Helena\n",
      "Dennis, Mr. William\n",
      "Franklin, Mr. Charles (Charles Fardon)\n",
      "Snyder, Mr. John Pillsbury\n",
      "Mardirosian, Mr. Sarkis\n",
      "Ford, Mr. Arthur\n",
      "Rheims, Mr. George Alexander Lucien\n",
      "Daly, Miss. Margaret Marcella Maggie\"\"\n",
      "Nasr, Mr. Mustafa\n",
      "Dodge, Dr. Washington\n",
      "Wittevrongel, Mr. Camille\n",
      "Angheloff, Mr. Minko\n",
      "Laroche, Miss. Louise\n",
      "Samaan, Mr. Hanna\n",
      "Loring, Mr. Joseph Holland\n",
      "Johansson, Mr. Nils\n",
      "Olsson, Mr. Oscar Wilhelm\n",
      "Malachard, Mr. Noel\n",
      "Phillips, Mr. Escott Robert\n",
      "Pokrnic, Mr. Tome\n",
      "McCarthy, Miss. Catherine Katie\"\"\n",
      "Crosby, Mrs. Edward Gifford (Catherine Elizabeth Halstead)\n",
      "Allison, Mr. Hudson Joshua Creighton\n",
      "Aks, Master. Philip Frank\n",
      "Hays, Mr. Charles Melville\n",
      "Hansen, Mrs. Claus Peter (Jennie L Howard)\n",
      "Cacic, Mr. Jego Grga\n",
      "Vartanian, Mr. David\n",
      "Sadowitz, Mr. Harry\n",
      "Carr, Miss. Jeannie\n",
      "White, Mrs. John Stuart (Ella Holmes)\n",
      "Hagardon, Miss. Kate\n",
      "Spencer, Mr. William Augustus\n",
      "Rogers, Mr. Reginald Harry\n",
      "Jonsson, Mr. Nils Hilding\n",
      "Jefferys, Mr. Ernest Wilfred\n",
      "Andersson, Mr. Johan Samuel\n",
      "Krekorian, Mr. Neshan\n",
      "Nesson, Mr. Israel\n",
      "Rowe, Mr. Alfred G\n",
      "Kreuchen, Miss. Emilie\n",
      "Assam, Mr. Ali\n",
      "Becker, Miss. Ruth Elizabeth\n",
      "Rosenshine, Mr. George (Mr George Thorne\")\"\n",
      "Clarke, Mr. Charles Valentine\n",
      "Enander, Mr. Ingvar\n",
      "Davies, Mrs. John Morgan (Elizabeth Agnes Mary White) \n",
      "Dulles, Mr. William Crothers\n",
      "Thomas, Mr. Tannous\n",
      "Nakid, Mrs. Said (Waika Mary\" Mowad)\"\n",
      "Cor, Mr. Ivan\n",
      "Maguire, Mr. John Edward\n",
      "de Brito, Mr. Jose Joaquim\n",
      "Elias, Mr. Joseph\n",
      "Denbury, Mr. Herbert\n",
      "Betros, Master. Seman\n",
      "Fillbrook, Mr. Joseph Charles\n",
      "Lundstrom, Mr. Thure Edvin\n",
      "Sage, Mr. John George\n",
      "Cardeza, Mrs. James Warburton Martinez (Charlotte Wardle Drake)\n",
      "van Billiard, Master. James William\n",
      "Abelseth, Miss. Karen Marie\n",
      "Botsford, Mr. William Hull\n",
      "Whabee, Mrs. George Joseph (Shawneene Abi-Saab)\n",
      "Giles, Mr. Ralph\n",
      "Walcroft, Miss. Nellie\n",
      "Greenfield, Mrs. Leo David (Blanche Strouse)\n",
      "Stokes, Mr. Philip Joseph\n",
      "Dibden, Mr. William\n",
      "Herman, Mr. Samuel\n",
      "Dean, Miss. Elizabeth Gladys Millvina\"\"\n",
      "Julian, Mr. Henry Forbes\n",
      "Brown, Mrs. John Murray (Caroline Lane Lamson)\n",
      "Lockyer, Mr. Edward\n",
      "O'Keefe, Mr. Patrick\n",
      "Lindell, Mrs. Edvard Bengtsson (Elin Gerda Persson)\n",
      "Sage, Master. William Henry\n",
      "Mallet, Mrs. Albert (Antoinette Magnin)\n",
      "Ware, Mrs. John James (Florence Louise Long)\n",
      "Strilic, Mr. Ivan\n",
      "Harder, Mrs. George Achilles (Dorothy Annan)\n",
      "Sage, Mrs. John (Annie Bullen)\n",
      "Caram, Mr. Joseph\n",
      "Riihivouri, Miss. Susanna Juhantytar Sanni\"\"\n",
      "Gibson, Mrs. Leonard (Pauline C Boeson)\n",
      "Pallas y Castello, Mr. Emilio\n",
      "Giles, Mr. Edgar\n",
      "Wilson, Miss. Helen Alice\n",
      "Ismay, Mr. Joseph Bruce\n",
      "Harbeck, Mr. William H\n",
      "Dodge, Mrs. Washington (Ruth Vidaver)\n",
      "Bowen, Miss. Grace Scott\n",
      "Kink, Miss. Maria\n",
      "Cotterill, Mr. Henry Harry\"\"\n",
      "Hipkins, Mr. William Edward\n",
      "Asplund, Master. Carl Edgar\n",
      "O'Connor, Mr. Patrick\n",
      "Foley, Mr. Joseph\n",
      "Risien, Mrs. Samuel (Emma)\n",
      "McNamee, Mrs. Neal (Eileen O'Leary)\n",
      "Wheeler, Mr. Edwin Frederick\"\"\n",
      "Herman, Miss. Kate\n",
      "Aronsson, Mr. Ernst Axel Algot\n",
      "Ashby, Mr. John\n",
      "Canavan, Mr. Patrick\n",
      "Palsson, Master. Paul Folke\n",
      "Payne, Mr. Vivian Ponsonby\n",
      "Lines, Mrs. Ernest H (Elizabeth Lindsey James)\n",
      "Abbott, Master. Eugene Joseph\n",
      "Gilbert, Mr. William\n",
      "Kink-Heilmann, Mr. Anton\n",
      "Smith, Mrs. Lucien Philip (Mary Eloise Hughes)\n",
      "Colbert, Mr. Patrick\n",
      "Frolicher-Stehli, Mrs. Maxmillian (Margaretha Emerentia Stehli)\n",
      "Larsson-Rondberg, Mr. Edvard A\n",
      "Conlon, Mr. Thomas Henry\n",
      "Bonnell, Miss. Caroline\n",
      "Gale, Mr. Harry\n",
      "Gibson, Miss. Dorothy Winifred\n",
      "Carrau, Mr. Jose Pedro\n",
      "Frauenthal, Mr. Isaac Gerald\n",
      "Nourney, Mr. Alfred (Baron von Drachstedt\")\"\n",
      "Ware, Mr. William Jeffery\n",
      "Widener, Mr. George Dunton\n",
      "Riordan, Miss. Johanna Hannah\"\"\n",
      "Peacock, Miss. Treasteall\n",
      "Naughton, Miss. Hannah\n",
      "Minahan, Mrs. William Edward (Lillian E Thorpe)\n",
      "Henriksson, Miss. Jenny Lovisa\n",
      "Spector, Mr. Woolf\n",
      "Oliva y Ocana, Dona. Fermina\n",
      "Saether, Mr. Simon Sivertsen\n",
      "Ware, Mr. Frederick\n",
      "Peter, Master. Michael J\n"
     ]
    }
   ],
   "source": [
    "for review in df['Name'].unique():\n",
    "    print(review)"
   ]
  },
  {
   "cell_type": "code",
   "execution_count": 207,
   "metadata": {},
   "outputs": [
    {
     "data": {
      "text/html": [
       "<div>\n",
       "<style scoped>\n",
       "    .dataframe tbody tr th:only-of-type {\n",
       "        vertical-align: middle;\n",
       "    }\n",
       "\n",
       "    .dataframe tbody tr th {\n",
       "        vertical-align: top;\n",
       "    }\n",
       "\n",
       "    .dataframe thead th {\n",
       "        text-align: right;\n",
       "    }\n",
       "</style>\n",
       "<table border=\"1\" class=\"dataframe\">\n",
       "  <thead>\n",
       "    <tr style=\"text-align: right;\">\n",
       "      <th></th>\n",
       "      <th>Pclass</th>\n",
       "      <th>Survived</th>\n",
       "    </tr>\n",
       "  </thead>\n",
       "  <tbody>\n",
       "    <tr>\n",
       "      <th>0</th>\n",
       "      <td>1</td>\n",
       "      <td>0.467290</td>\n",
       "    </tr>\n",
       "    <tr>\n",
       "      <th>2</th>\n",
       "      <td>3</td>\n",
       "      <td>0.330275</td>\n",
       "    </tr>\n",
       "    <tr>\n",
       "      <th>1</th>\n",
       "      <td>2</td>\n",
       "      <td>0.322581</td>\n",
       "    </tr>\n",
       "  </tbody>\n",
       "</table>\n",
       "</div>"
      ],
      "text/plain": [
       "   Pclass  Survived\n",
       "0       1  0.467290\n",
       "2       3  0.330275\n",
       "1       2  0.322581"
      ]
     },
     "execution_count": 207,
     "metadata": {},
     "output_type": "execute_result"
    }
   ],
   "source": [
    "df[['Pclass', 'Survived']].groupby(['Pclass'], as_index=False).mean().sort_values(by='Survived', ascending=False)"
   ]
  },
  {
   "cell_type": "code",
   "execution_count": 208,
   "metadata": {},
   "outputs": [
    {
     "data": {
      "image/png": "[encoded data removed]",
      "text/plain": [
       "<Figure size 640x480 with 1 Axes>"
      ]
     },
     "metadata": {},
     "output_type": "display_data"
    }
   ],
   "source": [
    "sns.countplot(x='Pclass', hue='Survived', data=df)\n",
    "plt.title('Passenger Class vs Survival Count')\n",
    "plt.xlabel('Passenger Class')\n",
    "plt.ylabel('Number of Passengers')\n",
    "plt.legend(title='Survived', loc='upper right', labels=['Not Survived', 'Survived'])\n",
    "plt.show()\n"
   ]
  },
  {
   "cell_type": "code",
   "execution_count": 209,
   "metadata": {},
   "outputs": [
    {
     "data": {
      "text/html": [
       "<div>\n",
       "<style scoped>\n",
       "    .dataframe tbody tr th:only-of-type {\n",
       "        vertical-align: middle;\n",
       "    }\n",
       "\n",
       "    .dataframe tbody tr th {\n",
       "        vertical-align: top;\n",
       "    }\n",
       "\n",
       "    .dataframe thead th {\n",
       "        text-align: right;\n",
       "    }\n",
       "</style>\n",
       "<table border=\"1\" class=\"dataframe\">\n",
       "  <thead>\n",
       "    <tr style=\"text-align: right;\">\n",
       "      <th></th>\n",
       "      <th>Sex</th>\n",
       "      <th>Survived</th>\n",
       "    </tr>\n",
       "  </thead>\n",
       "  <tbody>\n",
       "    <tr>\n",
       "      <th>0</th>\n",
       "      <td>female</td>\n",
       "      <td>1.0</td>\n",
       "    </tr>\n",
       "    <tr>\n",
       "      <th>1</th>\n",
       "      <td>male</td>\n",
       "      <td>0.0</td>\n",
       "    </tr>\n",
       "  </tbody>\n",
       "</table>\n",
       "</div>"
      ],
      "text/plain": [
       "      Sex  Survived\n",
       "0  female       1.0\n",
       "1    male       0.0"
      ]
     },
     "execution_count": 209,
     "metadata": {},
     "output_type": "execute_result"
    }
   ],
   "source": [
    "df[[\"Sex\", \"Survived\"]].groupby(['Sex'], as_index=False).mean().sort_values(by='Survived', ascending=False)"
   ]
  },
  {
   "cell_type": "code",
   "execution_count": 210,
   "metadata": {},
   "outputs": [
    {
     "data": {
      "image/png": "[encoded data removed]",
      "text/plain": [
       "<Figure size 640x480 with 1 Axes>"
      ]
     },
     "metadata": {},
     "output_type": "display_data"
    }
   ],
   "source": [
    "sns.countplot(x='Sex', hue='Survived', data=df)\n",
    "plt.title('Passenger Class vs Survival Count')\n",
    "plt.xlabel('Passenger Class')\n",
    "plt.ylabel('Number of Passengers')\n",
    "plt.legend(title='Sex', loc='upper right', labels=['Not Survived', 'Survived'])\n",
    "plt.show()"
   ]
  },
  {
   "cell_type": "code",
   "execution_count": 211,
   "metadata": {},
   "outputs": [
    {
     "data": {
      "text/html": [
       "<div>\n",
       "<style scoped>\n",
       "    .dataframe tbody tr th:only-of-type {\n",
       "        vertical-align: middle;\n",
       "    }\n",
       "\n",
       "    .dataframe tbody tr th {\n",
       "        vertical-align: top;\n",
       "    }\n",
       "\n",
       "    .dataframe thead th {\n",
       "        text-align: right;\n",
       "    }\n",
       "</style>\n",
       "<table border=\"1\" class=\"dataframe\">\n",
       "  <thead>\n",
       "    <tr style=\"text-align: right;\">\n",
       "      <th></th>\n",
       "      <th>SibSp</th>\n",
       "      <th>Survived</th>\n",
       "    </tr>\n",
       "  </thead>\n",
       "  <tbody>\n",
       "    <tr>\n",
       "      <th>5</th>\n",
       "      <td>5</td>\n",
       "      <td>1.000000</td>\n",
       "    </tr>\n",
       "    <tr>\n",
       "      <th>6</th>\n",
       "      <td>8</td>\n",
       "      <td>0.500000</td>\n",
       "    </tr>\n",
       "    <tr>\n",
       "      <th>1</th>\n",
       "      <td>1</td>\n",
       "      <td>0.490909</td>\n",
       "    </tr>\n",
       "    <tr>\n",
       "      <th>2</th>\n",
       "      <td>2</td>\n",
       "      <td>0.428571</td>\n",
       "    </tr>\n",
       "    <tr>\n",
       "      <th>0</th>\n",
       "      <td>0</td>\n",
       "      <td>0.310954</td>\n",
       "    </tr>\n",
       "    <tr>\n",
       "      <th>3</th>\n",
       "      <td>3</td>\n",
       "      <td>0.250000</td>\n",
       "    </tr>\n",
       "    <tr>\n",
       "      <th>4</th>\n",
       "      <td>4</td>\n",
       "      <td>0.250000</td>\n",
       "    </tr>\n",
       "  </tbody>\n",
       "</table>\n",
       "</div>"
      ],
      "text/plain": [
       "   SibSp  Survived\n",
       "5      5  1.000000\n",
       "6      8  0.500000\n",
       "1      1  0.490909\n",
       "2      2  0.428571\n",
       "0      0  0.310954\n",
       "3      3  0.250000\n",
       "4      4  0.250000"
      ]
     },
     "execution_count": 211,
     "metadata": {},
     "output_type": "execute_result"
    }
   ],
   "source": [
    "df[[\"SibSp\", \"Survived\"]].groupby(['SibSp'], as_index=False).mean().sort_values(by='Survived', ascending=False)"
   ]
  },
  {
   "cell_type": "code",
   "execution_count": 212,
   "metadata": {},
   "outputs": [
    {
     "data": {
      "image/png": "[encoded data removed]",
      "text/plain": [
       "<Figure size 640x480 with 1 Axes>"
      ]
     },
     "metadata": {},
     "output_type": "display_data"
    }
   ],
   "source": [
    "sns.countplot(x='SibSp', hue='Survived', data=df)\n",
    "plt.title('Passenger Class vs Survival Count')\n",
    "plt.xlabel('Passenger Class')\n",
    "plt.ylabel('Number of Passengers')\n",
    "plt.legend(title='SibSp', loc='upper right', labels=['Not Survived', 'Survived'])\n",
    "plt.show()"
   ]
  },
  {
   "cell_type": "code",
   "execution_count": 213,
   "metadata": {},
   "outputs": [
    {
     "data": {
      "text/html": [
       "<div>\n",
       "<style scoped>\n",
       "    .dataframe tbody tr th:only-of-type {\n",
       "        vertical-align: middle;\n",
       "    }\n",
       "\n",
       "    .dataframe tbody tr th {\n",
       "        vertical-align: top;\n",
       "    }\n",
       "\n",
       "    .dataframe thead th {\n",
       "        text-align: right;\n",
       "    }\n",
       "</style>\n",
       "<table border=\"1\" class=\"dataframe\">\n",
       "  <thead>\n",
       "    <tr style=\"text-align: right;\">\n",
       "      <th></th>\n",
       "      <th>Parch</th>\n",
       "      <th>Survived</th>\n",
       "    </tr>\n",
       "  </thead>\n",
       "  <tbody>\n",
       "    <tr>\n",
       "      <th>0</th>\n",
       "      <td>0</td>\n",
       "      <td>0.305556</td>\n",
       "    </tr>\n",
       "    <tr>\n",
       "      <th>1</th>\n",
       "      <td>1</td>\n",
       "      <td>0.538462</td>\n",
       "    </tr>\n",
       "    <tr>\n",
       "      <th>2</th>\n",
       "      <td>2</td>\n",
       "      <td>0.606061</td>\n",
       "    </tr>\n",
       "    <tr>\n",
       "      <th>3</th>\n",
       "      <td>3</td>\n",
       "      <td>0.666667</td>\n",
       "    </tr>\n",
       "    <tr>\n",
       "      <th>4</th>\n",
       "      <td>4</td>\n",
       "      <td>1.000000</td>\n",
       "    </tr>\n",
       "    <tr>\n",
       "      <th>5</th>\n",
       "      <td>5</td>\n",
       "      <td>0.000000</td>\n",
       "    </tr>\n",
       "    <tr>\n",
       "      <th>6</th>\n",
       "      <td>6</td>\n",
       "      <td>0.000000</td>\n",
       "    </tr>\n",
       "    <tr>\n",
       "      <th>7</th>\n",
       "      <td>9</td>\n",
       "      <td>0.500000</td>\n",
       "    </tr>\n",
       "  </tbody>\n",
       "</table>\n",
       "</div>"
      ],
      "text/plain": [
       "   Parch  Survived\n",
       "0      0  0.305556\n",
       "1      1  0.538462\n",
       "2      2  0.606061\n",
       "3      3  0.666667\n",
       "4      4  1.000000\n",
       "5      5  0.000000\n",
       "6      6  0.000000\n",
       "7      9  0.500000"
      ]
     },
     "execution_count": 213,
     "metadata": {},
     "output_type": "execute_result"
    }
   ],
   "source": [
    "df[['Parch','Survived']].groupby(['Parch'],as_index=False).mean().sort_values(by='Parch',ascending=True)"
   ]
  },
  {
   "cell_type": "code",
   "execution_count": 214,
   "metadata": {},
   "outputs": [
    {
     "data": {
      "image/png": "[encoded data removed]",
      "text/plain": [
       "<Figure size 640x480 with 1 Axes>"
      ]
     },
     "metadata": {},
     "output_type": "display_data"
    }
   ],
   "source": [
    "sns.countplot(x='Parch', hue='Survived', data=df)\n",
    "plt.title('Passenger Class vs Survival Count')\n",
    "plt.xlabel('Passenger Class')\n",
    "plt.ylabel('Number of Passengers')\n",
    "plt.legend(title='Parch', loc='upper right', labels=['Not Survived', 'Survived'])\n",
    "plt.show()"
   ]
  },
  {
   "cell_type": "code",
   "execution_count": 215,
   "metadata": {},
   "outputs": [
    {
     "data": {
      "text/html": [
       "<div>\n",
       "<style scoped>\n",
       "    .dataframe tbody tr th:only-of-type {\n",
       "        vertical-align: middle;\n",
       "    }\n",
       "\n",
       "    .dataframe tbody tr th {\n",
       "        vertical-align: top;\n",
       "    }\n",
       "\n",
       "    .dataframe thead th {\n",
       "        text-align: right;\n",
       "    }\n",
       "</style>\n",
       "<table border=\"1\" class=\"dataframe\">\n",
       "  <thead>\n",
       "    <tr style=\"text-align: right;\">\n",
       "      <th></th>\n",
       "      <th>Age</th>\n",
       "      <th>Survived</th>\n",
       "    </tr>\n",
       "  </thead>\n",
       "  <tbody>\n",
       "    <tr>\n",
       "      <th>0</th>\n",
       "      <td>0.17</td>\n",
       "      <td>1.000000</td>\n",
       "    </tr>\n",
       "    <tr>\n",
       "      <th>1</th>\n",
       "      <td>0.33</td>\n",
       "      <td>0.000000</td>\n",
       "    </tr>\n",
       "    <tr>\n",
       "      <th>2</th>\n",
       "      <td>0.75</td>\n",
       "      <td>0.000000</td>\n",
       "    </tr>\n",
       "    <tr>\n",
       "      <th>3</th>\n",
       "      <td>0.83</td>\n",
       "      <td>0.000000</td>\n",
       "    </tr>\n",
       "    <tr>\n",
       "      <th>4</th>\n",
       "      <td>0.92</td>\n",
       "      <td>1.000000</td>\n",
       "    </tr>\n",
       "    <tr>\n",
       "      <th>...</th>\n",
       "      <td>...</td>\n",
       "      <td>...</td>\n",
       "    </tr>\n",
       "    <tr>\n",
       "      <th>74</th>\n",
       "      <td>62.00</td>\n",
       "      <td>0.000000</td>\n",
       "    </tr>\n",
       "    <tr>\n",
       "      <th>75</th>\n",
       "      <td>63.00</td>\n",
       "      <td>0.500000</td>\n",
       "    </tr>\n",
       "    <tr>\n",
       "      <th>76</th>\n",
       "      <td>64.00</td>\n",
       "      <td>0.666667</td>\n",
       "    </tr>\n",
       "    <tr>\n",
       "      <th>77</th>\n",
       "      <td>67.00</td>\n",
       "      <td>0.000000</td>\n",
       "    </tr>\n",
       "    <tr>\n",
       "      <th>78</th>\n",
       "      <td>76.00</td>\n",
       "      <td>1.000000</td>\n",
       "    </tr>\n",
       "  </tbody>\n",
       "</table>\n",
       "<p>79 rows × 2 columns</p>\n",
       "</div>"
      ],
      "text/plain": [
       "      Age  Survived\n",
       "0    0.17  1.000000\n",
       "1    0.33  0.000000\n",
       "2    0.75  0.000000\n",
       "3    0.83  0.000000\n",
       "4    0.92  1.000000\n",
       "..    ...       ...\n",
       "74  62.00  0.000000\n",
       "75  63.00  0.500000\n",
       "76  64.00  0.666667\n",
       "77  67.00  0.000000\n",
       "78  76.00  1.000000\n",
       "\n",
       "[79 rows x 2 columns]"
      ]
     },
     "execution_count": 215,
     "metadata": {},
     "output_type": "execute_result"
    }
   ],
   "source": [
    "df[['Age','Survived']].groupby(['Age'],as_index=False).mean().sort_values(by='Age',ascending=True)\n"
   ]
  },
  {
   "cell_type": "code",
   "execution_count": 216,
   "metadata": {},
   "outputs": [
    {
     "data": {
      "text/plain": [
       "Index(['PassengerId', 'Survived', 'Pclass', 'Name', 'Sex', 'Age', 'SibSp',\n",
       "       'Parch', 'Ticket', 'Fare', 'Cabin', 'Embarked'],\n",
       "      dtype='object')"
      ]
     },
     "execution_count": 216,
     "metadata": {},
     "output_type": "execute_result"
    }
   ],
   "source": [
    "df.columns"
   ]
  },
  {
   "cell_type": "code",
   "execution_count": 217,
   "metadata": {},
   "outputs": [
    {
     "data": {
      "text/plain": [
       "<seaborn.axisgrid.FacetGrid at 0x229c026e2d0>"
      ]
     },
     "execution_count": 217,
     "metadata": {},
     "output_type": "execute_result"
    },
    {
     "data": {
      "image/png": "[encoded data removed]",
      "text/plain": [
       "<Figure size 600x300 with 2 Axes>"
      ]
     },
     "metadata": {},
     "output_type": "display_data"
    }
   ],
   "source": [
    "# hna rah ye3tina histogram te3 age li 3achou w li matou \n",
    "g = sns.FacetGrid(df, col='Survived')\n",
    "g.map(plt.hist, 'Age', bins=20)"
   ]
  },
  {
   "cell_type": "code",
   "execution_count": 218,
   "metadata": {},
   "outputs": [
    {
     "data": {
      "text/plain": [
       "<seaborn.axisgrid.FacetGrid at 0x229c03bdf90>"
      ]
     },
     "execution_count": 218,
     "metadata": {},
     "output_type": "execute_result"
    },
    {
     "data": {
      "image/png": "[encoded data removed]",
      "text/plain": [
       "<Figure size 900x300 with 3 Axes>"
      ]
     },
     "metadata": {},
     "output_type": "display_data"
    },
    {
     "data": {
      "image/png": "[encoded data removed]",
      "text/plain": [
       "<Figure size 971.111x900 with 6 Axes>"
      ]
     },
     "metadata": {},
     "output_type": "display_data"
    }
   ],
   "source": [
    "grid = sns.FacetGrid(df, col='Pclass', hue='Survived')\n",
    "grid = sns.FacetGrid(df, col='Survived', row='Pclass', aspect=1.6)\n",
    "grid.map(plt.hist, 'Age', alpha=.5, bins=20)\n",
    "grid.add_legend()"
   ]
  },
  {
   "cell_type": "code",
   "execution_count": 219,
   "metadata": {},
   "outputs": [
    {
     "name": "stderr",
     "output_type": "stream",
     "text": [
      "c:\\Users\\HP\\anaconda3\\Lib\\site-packages\\seaborn\\axisgrid.py:718: UserWarning: Using the barplot function without specifying `order` is likely to produce an incorrect plot.\n",
      "  warnings.warn(warning)\n",
      "c:\\Users\\HP\\anaconda3\\Lib\\site-packages\\seaborn\\axisgrid.py:854: FutureWarning: \n",
      "\n",
      "The `ci` parameter is deprecated. Use `errorbar=None` for the same effect.\n",
      "\n",
      "  func(*plot_args, **plot_kwargs)\n",
      "c:\\Users\\HP\\anaconda3\\Lib\\site-packages\\seaborn\\axisgrid.py:854: FutureWarning: \n",
      "\n",
      "The `ci` parameter is deprecated. Use `errorbar=None` for the same effect.\n",
      "\n",
      "  func(*plot_args, **plot_kwargs)\n",
      "c:\\Users\\HP\\anaconda3\\Lib\\site-packages\\seaborn\\axisgrid.py:854: FutureWarning: \n",
      "\n",
      "The `ci` parameter is deprecated. Use `errorbar=None` for the same effect.\n",
      "\n",
      "  func(*plot_args, **plot_kwargs)\n",
      "c:\\Users\\HP\\anaconda3\\Lib\\site-packages\\seaborn\\axisgrid.py:854: FutureWarning: \n",
      "\n",
      "The `ci` parameter is deprecated. Use `errorbar=None` for the same effect.\n",
      "\n",
      "  func(*plot_args, **plot_kwargs)\n",
      "c:\\Users\\HP\\anaconda3\\Lib\\site-packages\\seaborn\\axisgrid.py:854: FutureWarning: \n",
      "\n",
      "The `ci` parameter is deprecated. Use `errorbar=None` for the same effect.\n",
      "\n",
      "  func(*plot_args, **plot_kwargs)\n",
      "c:\\Users\\HP\\anaconda3\\Lib\\site-packages\\seaborn\\axisgrid.py:854: FutureWarning: \n",
      "\n",
      "The `ci` parameter is deprecated. Use `errorbar=None` for the same effect.\n",
      "\n",
      "  func(*plot_args, **plot_kwargs)\n"
     ]
    },
    {
     "data": {
      "text/plain": [
       "<seaborn.axisgrid.FacetGrid at 0x229bfe11ad0>"
      ]
     },
     "execution_count": 219,
     "metadata": {},
     "output_type": "execute_result"
    },
    {
     "data": {
      "image/png": "[encoded data removed]",
      "text/plain": [
       "<Figure size 900x300 with 3 Axes>"
      ]
     },
     "metadata": {},
     "output_type": "display_data"
    },
    {
     "data": {
      "image/png": "[encoded data removed]",
      "text/plain": [
       "<Figure size 971.111x900 with 6 Axes>"
      ]
     },
     "metadata": {},
     "output_type": "display_data"
    }
   ],
   "source": [
    "grid = sns.FacetGrid(df, col='Embarked', hue='Survived', palette={0: 'k', 1: 'w'})\n",
    "grid = sns.FacetGrid(df, row='Embarked', col='Survived', aspect=1.6)\n",
    "grid.map(sns.barplot, 'Sex', 'Fare', alpha=.5, ci=None)\n",
    "grid.add_legend()"
   ]
  },
  {
   "cell_type": "code",
   "execution_count": 220,
   "metadata": {},
   "outputs": [
    {
     "name": "stdout",
     "output_type": "stream",
     "text": [
      "<class 'pandas.core.frame.DataFrame'>\n",
      "RangeIndex: 418 entries, 0 to 417\n",
      "Data columns (total 12 columns):\n",
      " #   Column       Non-Null Count  Dtype  \n",
      "---  ------       --------------  -----  \n",
      " 0   PassengerId  418 non-null    int64  \n",
      " 1   Survived     418 non-null    int64  \n",
      " 2   Pclass       418 non-null    int64  \n",
      " 3   Name         418 non-null    object \n",
      " 4   Sex          418 non-null    object \n",
      " 5   Age          332 non-null    float64\n",
      " 6   SibSp        418 non-null    int64  \n",
      " 7   Parch        418 non-null    int64  \n",
      " 8   Ticket       418 non-null    object \n",
      " 9   Fare         417 non-null    float64\n",
      " 10  Cabin        91 non-null     object \n",
      " 11  Embarked     418 non-null    object \n",
      "dtypes: float64(2), int64(5), object(5)\n",
      "memory usage: 39.3+ KB\n"
     ]
    }
   ],
   "source": [
    "df.info()"
   ]
  },
  {
   "cell_type": "code",
   "execution_count": 221,
   "metadata": {},
   "outputs": [
    {
     "data": {
      "text/html": [
       "<div>\n",
       "<style scoped>\n",
       "    .dataframe tbody tr th:only-of-type {\n",
       "        vertical-align: middle;\n",
       "    }\n",
       "\n",
       "    .dataframe tbody tr th {\n",
       "        vertical-align: top;\n",
       "    }\n",
       "\n",
       "    .dataframe thead th {\n",
       "        text-align: right;\n",
       "    }\n",
       "</style>\n",
       "<table border=\"1\" class=\"dataframe\">\n",
       "  <thead>\n",
       "    <tr style=\"text-align: right;\">\n",
       "      <th></th>\n",
       "      <th>FamilySize</th>\n",
       "      <th>Survived</th>\n",
       "    </tr>\n",
       "  </thead>\n",
       "  <tbody>\n",
       "    <tr>\n",
       "      <th>3</th>\n",
       "      <td>4</td>\n",
       "      <td>0.714286</td>\n",
       "    </tr>\n",
       "    <tr>\n",
       "      <th>5</th>\n",
       "      <td>6</td>\n",
       "      <td>0.666667</td>\n",
       "    </tr>\n",
       "    <tr>\n",
       "      <th>2</th>\n",
       "      <td>3</td>\n",
       "      <td>0.526316</td>\n",
       "    </tr>\n",
       "    <tr>\n",
       "      <th>7</th>\n",
       "      <td>8</td>\n",
       "      <td>0.500000</td>\n",
       "    </tr>\n",
       "    <tr>\n",
       "      <th>8</th>\n",
       "      <td>11</td>\n",
       "      <td>0.500000</td>\n",
       "    </tr>\n",
       "    <tr>\n",
       "      <th>1</th>\n",
       "      <td>2</td>\n",
       "      <td>0.486486</td>\n",
       "    </tr>\n",
       "    <tr>\n",
       "      <th>4</th>\n",
       "      <td>5</td>\n",
       "      <td>0.285714</td>\n",
       "    </tr>\n",
       "    <tr>\n",
       "      <th>0</th>\n",
       "      <td>1</td>\n",
       "      <td>0.268775</td>\n",
       "    </tr>\n",
       "    <tr>\n",
       "      <th>6</th>\n",
       "      <td>7</td>\n",
       "      <td>0.250000</td>\n",
       "    </tr>\n",
       "  </tbody>\n",
       "</table>\n",
       "</div>"
      ],
      "text/plain": [
       "   FamilySize  Survived\n",
       "3           4  0.714286\n",
       "5           6  0.666667\n",
       "2           3  0.526316\n",
       "7           8  0.500000\n",
       "8          11  0.500000\n",
       "1           2  0.486486\n",
       "4           5  0.285714\n",
       "0           1  0.268775\n",
       "6           7  0.250000"
      ]
     },
     "execution_count": 221,
     "metadata": {},
     "output_type": "execute_result"
    }
   ],
   "source": [
    "# Create a new column 'FamilySize' by adding 'SibSp' and 'Parch' and adding 1 to account for the person themselves\n",
    "df['FamilySize'] = df['SibSp'] + df['Parch'] + 1\n",
    "\n",
    "# Group by 'FamilySize' and calculate the mean survival rate\n",
    "family_survival = df[['FamilySize', 'Survived']].groupby(['FamilySize'], as_index=False).mean().sort_values(by='Survived', ascending=False)\n",
    "\n",
    "# Display the result\n",
    "family_survival"
   ]
  },
  {
   "cell_type": "code",
   "execution_count": 222,
   "metadata": {},
   "outputs": [
    {
     "data": {
      "text/html": [
       "<div>\n",
       "<style scoped>\n",
       "    .dataframe tbody tr th:only-of-type {\n",
       "        vertical-align: middle;\n",
       "    }\n",
       "\n",
       "    .dataframe tbody tr th {\n",
       "        vertical-align: top;\n",
       "    }\n",
       "\n",
       "    .dataframe thead th {\n",
       "        text-align: right;\n",
       "    }\n",
       "</style>\n",
       "<table border=\"1\" class=\"dataframe\">\n",
       "  <thead>\n",
       "    <tr style=\"text-align: right;\">\n",
       "      <th></th>\n",
       "      <th>PassengerId</th>\n",
       "      <th>Survived</th>\n",
       "      <th>Pclass</th>\n",
       "      <th>Name</th>\n",
       "      <th>Sex</th>\n",
       "      <th>Age</th>\n",
       "      <th>SibSp</th>\n",
       "      <th>Parch</th>\n",
       "      <th>Ticket</th>\n",
       "      <th>Fare</th>\n",
       "      <th>Cabin</th>\n",
       "      <th>Embarked</th>\n",
       "      <th>FamilySize</th>\n",
       "    </tr>\n",
       "  </thead>\n",
       "  <tbody>\n",
       "    <tr>\n",
       "      <th>0</th>\n",
       "      <td>892</td>\n",
       "      <td>0</td>\n",
       "      <td>3</td>\n",
       "      <td>Kelly, Mr. James</td>\n",
       "      <td>male</td>\n",
       "      <td>34.5</td>\n",
       "      <td>0</td>\n",
       "      <td>0</td>\n",
       "      <td>330911</td>\n",
       "      <td>7.8292</td>\n",
       "      <td>NaN</td>\n",
       "      <td>Q</td>\n",
       "      <td>1</td>\n",
       "    </tr>\n",
       "    <tr>\n",
       "      <th>1</th>\n",
       "      <td>893</td>\n",
       "      <td>1</td>\n",
       "      <td>3</td>\n",
       "      <td>Wilkes, Mrs. James (Ellen Needs)</td>\n",
       "      <td>female</td>\n",
       "      <td>47.0</td>\n",
       "      <td>1</td>\n",
       "      <td>0</td>\n",
       "      <td>363272</td>\n",
       "      <td>7.0000</td>\n",
       "      <td>NaN</td>\n",
       "      <td>S</td>\n",
       "      <td>2</td>\n",
       "    </tr>\n",
       "    <tr>\n",
       "      <th>2</th>\n",
       "      <td>894</td>\n",
       "      <td>0</td>\n",
       "      <td>2</td>\n",
       "      <td>Myles, Mr. Thomas Francis</td>\n",
       "      <td>male</td>\n",
       "      <td>62.0</td>\n",
       "      <td>0</td>\n",
       "      <td>0</td>\n",
       "      <td>240276</td>\n",
       "      <td>9.6875</td>\n",
       "      <td>NaN</td>\n",
       "      <td>Q</td>\n",
       "      <td>1</td>\n",
       "    </tr>\n",
       "    <tr>\n",
       "      <th>3</th>\n",
       "      <td>895</td>\n",
       "      <td>0</td>\n",
       "      <td>3</td>\n",
       "      <td>Wirz, Mr. Albert</td>\n",
       "      <td>male</td>\n",
       "      <td>27.0</td>\n",
       "      <td>0</td>\n",
       "      <td>0</td>\n",
       "      <td>315154</td>\n",
       "      <td>8.6625</td>\n",
       "      <td>NaN</td>\n",
       "      <td>S</td>\n",
       "      <td>1</td>\n",
       "    </tr>\n",
       "    <tr>\n",
       "      <th>4</th>\n",
       "      <td>896</td>\n",
       "      <td>1</td>\n",
       "      <td>3</td>\n",
       "      <td>Hirvonen, Mrs. Alexander (Helga E Lindqvist)</td>\n",
       "      <td>female</td>\n",
       "      <td>22.0</td>\n",
       "      <td>1</td>\n",
       "      <td>1</td>\n",
       "      <td>3101298</td>\n",
       "      <td>12.2875</td>\n",
       "      <td>NaN</td>\n",
       "      <td>S</td>\n",
       "      <td>3</td>\n",
       "    </tr>\n",
       "  </tbody>\n",
       "</table>\n",
       "</div>"
      ],
      "text/plain": [
       "   PassengerId  Survived  Pclass  \\\n",
       "0          892         0       3   \n",
       "1          893         1       3   \n",
       "2          894         0       2   \n",
       "3          895         0       3   \n",
       "4          896         1       3   \n",
       "\n",
       "                                           Name     Sex   Age  SibSp  Parch  \\\n",
       "0                              Kelly, Mr. James    male  34.5      0      0   \n",
       "1              Wilkes, Mrs. James (Ellen Needs)  female  47.0      1      0   \n",
       "2                     Myles, Mr. Thomas Francis    male  62.0      0      0   \n",
       "3                              Wirz, Mr. Albert    male  27.0      0      0   \n",
       "4  Hirvonen, Mrs. Alexander (Helga E Lindqvist)  female  22.0      1      1   \n",
       "\n",
       "    Ticket     Fare Cabin Embarked  FamilySize  \n",
       "0   330911   7.8292   NaN        Q           1  \n",
       "1   363272   7.0000   NaN        S           2  \n",
       "2   240276   9.6875   NaN        Q           1  \n",
       "3   315154   8.6625   NaN        S           1  \n",
       "4  3101298  12.2875   NaN        S           3  "
      ]
     },
     "execution_count": 222,
     "metadata": {},
     "output_type": "execute_result"
    }
   ],
   "source": [
    "df.head()"
   ]
  },
  {
   "cell_type": "markdown",
   "metadata": {},
   "source": [
    "# Feature engineering"
   ]
  },
  {
   "cell_type": "code",
   "execution_count": 223,
   "metadata": {},
   "outputs": [
    {
     "data": {
      "text/html": [
       "<div>\n",
       "<style scoped>\n",
       "    .dataframe tbody tr th:only-of-type {\n",
       "        vertical-align: middle;\n",
       "    }\n",
       "\n",
       "    .dataframe tbody tr th {\n",
       "        vertical-align: top;\n",
       "    }\n",
       "\n",
       "    .dataframe thead th {\n",
       "        text-align: right;\n",
       "    }\n",
       "</style>\n",
       "<table border=\"1\" class=\"dataframe\">\n",
       "  <thead>\n",
       "    <tr style=\"text-align: right;\">\n",
       "      <th></th>\n",
       "      <th>IsAlone</th>\n",
       "      <th>Survived</th>\n",
       "    </tr>\n",
       "  </thead>\n",
       "  <tbody>\n",
       "    <tr>\n",
       "      <th>0</th>\n",
       "      <td>0</td>\n",
       "      <td>0.509091</td>\n",
       "    </tr>\n",
       "    <tr>\n",
       "      <th>1</th>\n",
       "      <td>1</td>\n",
       "      <td>0.268775</td>\n",
       "    </tr>\n",
       "  </tbody>\n",
       "</table>\n",
       "</div>"
      ],
      "text/plain": [
       "   IsAlone  Survived\n",
       "0        0  0.509091\n",
       "1        1  0.268775"
      ]
     },
     "execution_count": 223,
     "metadata": {},
     "output_type": "execute_result"
    }
   ],
   "source": [
    "df['IsAlone'] = 0\n",
    "df.loc[df['FamilySize'] == 1, 'IsAlone'] = 1\n",
    "\n",
    "is_alone_survival = df[['IsAlone', 'Survived']].groupby(['IsAlone'], as_index=False).mean()\n",
    "is_alone_survival\n"
   ]
  },
  {
   "cell_type": "code",
   "execution_count": 224,
   "metadata": {},
   "outputs": [
    {
     "data": {
      "text/html": [
       "<div>\n",
       "<style scoped>\n",
       "    .dataframe tbody tr th:only-of-type {\n",
       "        vertical-align: middle;\n",
       "    }\n",
       "\n",
       "    .dataframe tbody tr th {\n",
       "        vertical-align: top;\n",
       "    }\n",
       "\n",
       "    .dataframe thead th {\n",
       "        text-align: right;\n",
       "    }\n",
       "</style>\n",
       "<table border=\"1\" class=\"dataframe\">\n",
       "  <thead>\n",
       "    <tr style=\"text-align: right;\">\n",
       "      <th></th>\n",
       "      <th>PassengerId</th>\n",
       "      <th>Survived</th>\n",
       "      <th>Pclass</th>\n",
       "      <th>Name</th>\n",
       "      <th>Sex</th>\n",
       "      <th>Age</th>\n",
       "      <th>SibSp</th>\n",
       "      <th>Parch</th>\n",
       "      <th>Ticket</th>\n",
       "      <th>Fare</th>\n",
       "      <th>Cabin</th>\n",
       "      <th>Embarked</th>\n",
       "      <th>FamilySize</th>\n",
       "      <th>IsAlone</th>\n",
       "    </tr>\n",
       "  </thead>\n",
       "  <tbody>\n",
       "    <tr>\n",
       "      <th>0</th>\n",
       "      <td>892</td>\n",
       "      <td>0</td>\n",
       "      <td>3</td>\n",
       "      <td>Kelly, Mr. James</td>\n",
       "      <td>male</td>\n",
       "      <td>34.5</td>\n",
       "      <td>0</td>\n",
       "      <td>0</td>\n",
       "      <td>330911</td>\n",
       "      <td>7.8292</td>\n",
       "      <td>NaN</td>\n",
       "      <td>Q</td>\n",
       "      <td>1</td>\n",
       "      <td>1</td>\n",
       "    </tr>\n",
       "    <tr>\n",
       "      <th>1</th>\n",
       "      <td>893</td>\n",
       "      <td>1</td>\n",
       "      <td>3</td>\n",
       "      <td>Wilkes, Mrs. James (Ellen Needs)</td>\n",
       "      <td>female</td>\n",
       "      <td>47.0</td>\n",
       "      <td>1</td>\n",
       "      <td>0</td>\n",
       "      <td>363272</td>\n",
       "      <td>7.0000</td>\n",
       "      <td>NaN</td>\n",
       "      <td>S</td>\n",
       "      <td>2</td>\n",
       "      <td>0</td>\n",
       "    </tr>\n",
       "    <tr>\n",
       "      <th>2</th>\n",
       "      <td>894</td>\n",
       "      <td>0</td>\n",
       "      <td>2</td>\n",
       "      <td>Myles, Mr. Thomas Francis</td>\n",
       "      <td>male</td>\n",
       "      <td>62.0</td>\n",
       "      <td>0</td>\n",
       "      <td>0</td>\n",
       "      <td>240276</td>\n",
       "      <td>9.6875</td>\n",
       "      <td>NaN</td>\n",
       "      <td>Q</td>\n",
       "      <td>1</td>\n",
       "      <td>1</td>\n",
       "    </tr>\n",
       "    <tr>\n",
       "      <th>3</th>\n",
       "      <td>895</td>\n",
       "      <td>0</td>\n",
       "      <td>3</td>\n",
       "      <td>Wirz, Mr. Albert</td>\n",
       "      <td>male</td>\n",
       "      <td>27.0</td>\n",
       "      <td>0</td>\n",
       "      <td>0</td>\n",
       "      <td>315154</td>\n",
       "      <td>8.6625</td>\n",
       "      <td>NaN</td>\n",
       "      <td>S</td>\n",
       "      <td>1</td>\n",
       "      <td>1</td>\n",
       "    </tr>\n",
       "    <tr>\n",
       "      <th>4</th>\n",
       "      <td>896</td>\n",
       "      <td>1</td>\n",
       "      <td>3</td>\n",
       "      <td>Hirvonen, Mrs. Alexander (Helga E Lindqvist)</td>\n",
       "      <td>female</td>\n",
       "      <td>22.0</td>\n",
       "      <td>1</td>\n",
       "      <td>1</td>\n",
       "      <td>3101298</td>\n",
       "      <td>12.2875</td>\n",
       "      <td>NaN</td>\n",
       "      <td>S</td>\n",
       "      <td>3</td>\n",
       "      <td>0</td>\n",
       "    </tr>\n",
       "  </tbody>\n",
       "</table>\n",
       "</div>"
      ],
      "text/plain": [
       "   PassengerId  Survived  Pclass  \\\n",
       "0          892         0       3   \n",
       "1          893         1       3   \n",
       "2          894         0       2   \n",
       "3          895         0       3   \n",
       "4          896         1       3   \n",
       "\n",
       "                                           Name     Sex   Age  SibSp  Parch  \\\n",
       "0                              Kelly, Mr. James    male  34.5      0      0   \n",
       "1              Wilkes, Mrs. James (Ellen Needs)  female  47.0      1      0   \n",
       "2                     Myles, Mr. Thomas Francis    male  62.0      0      0   \n",
       "3                              Wirz, Mr. Albert    male  27.0      0      0   \n",
       "4  Hirvonen, Mrs. Alexander (Helga E Lindqvist)  female  22.0      1      1   \n",
       "\n",
       "    Ticket     Fare Cabin Embarked  FamilySize  IsAlone  \n",
       "0   330911   7.8292   NaN        Q           1        1  \n",
       "1   363272   7.0000   NaN        S           2        0  \n",
       "2   240276   9.6875   NaN        Q           1        1  \n",
       "3   315154   8.6625   NaN        S           1        1  \n",
       "4  3101298  12.2875   NaN        S           3        0  "
      ]
     },
     "execution_count": 224,
     "metadata": {},
     "output_type": "execute_result"
    }
   ],
   "source": [
    "df.head()"
   ]
  },
  {
   "cell_type": "markdown",
   "metadata": {},
   "source": [
    "# hadi mnich sur nkhaliha"
   ]
  },
  {
   "cell_type": "code",
   "execution_count": 225,
   "metadata": {},
   "outputs": [
    {
     "data": {
      "image/png": "[encoded data removed]",
      "text/plain": [
       "<Figure size 640x480 with 2 Axes>"
      ]
     },
     "metadata": {},
     "output_type": "display_data"
    }
   ],
   "source": [
    "numerical = ['Survived', 'Pclass','Age','SibSp','Parch','Fare']\n",
    "\n",
    "corr_matrix = df[numerical].corr()\n",
    "\n",
    "# Plotting the heatmap\n",
    "sns.heatmap(corr_matrix, annot=True)\n",
    "plt.show()"
   ]
  },
  {
   "cell_type": "markdown",
   "metadata": {},
   "source": [
    "# 2- **Prepocessing**"
   ]
  },
  {
   "cell_type": "markdown",
   "metadata": {},
   "source": [
    "# droping unuse columns"
   ]
  },
  {
   "cell_type": "code",
   "execution_count": 226,
   "metadata": {},
   "outputs": [],
   "source": [
    "df = df.drop('Name',axis=1)\n",
    "df = df.drop('Ticket',axis=1)\n",
    "df = df.drop('Embarked', axis=1)\n",
    "df = df.drop('Cabin',axis=1)\n",
    "df = df.drop('FamilySize',axis =1)"
   ]
  },
  {
   "cell_type": "code",
   "execution_count": 227,
   "metadata": {},
   "outputs": [
    {
     "data": {
      "text/html": [
       "<div>\n",
       "<style scoped>\n",
       "    .dataframe tbody tr th:only-of-type {\n",
       "        vertical-align: middle;\n",
       "    }\n",
       "\n",
       "    .dataframe tbody tr th {\n",
       "        vertical-align: top;\n",
       "    }\n",
       "\n",
       "    .dataframe thead th {\n",
       "        text-align: right;\n",
       "    }\n",
       "</style>\n",
       "<table border=\"1\" class=\"dataframe\">\n",
       "  <thead>\n",
       "    <tr style=\"text-align: right;\">\n",
       "      <th></th>\n",
       "      <th>PassengerId</th>\n",
       "      <th>Survived</th>\n",
       "      <th>Pclass</th>\n",
       "      <th>Sex</th>\n",
       "      <th>Age</th>\n",
       "      <th>SibSp</th>\n",
       "      <th>Parch</th>\n",
       "      <th>Fare</th>\n",
       "      <th>IsAlone</th>\n",
       "    </tr>\n",
       "  </thead>\n",
       "  <tbody>\n",
       "    <tr>\n",
       "      <th>0</th>\n",
       "      <td>892</td>\n",
       "      <td>0</td>\n",
       "      <td>3</td>\n",
       "      <td>male</td>\n",
       "      <td>34.5</td>\n",
       "      <td>0</td>\n",
       "      <td>0</td>\n",
       "      <td>7.8292</td>\n",
       "      <td>1</td>\n",
       "    </tr>\n",
       "    <tr>\n",
       "      <th>1</th>\n",
       "      <td>893</td>\n",
       "      <td>1</td>\n",
       "      <td>3</td>\n",
       "      <td>female</td>\n",
       "      <td>47.0</td>\n",
       "      <td>1</td>\n",
       "      <td>0</td>\n",
       "      <td>7.0000</td>\n",
       "      <td>0</td>\n",
       "    </tr>\n",
       "    <tr>\n",
       "      <th>2</th>\n",
       "      <td>894</td>\n",
       "      <td>0</td>\n",
       "      <td>2</td>\n",
       "      <td>male</td>\n",
       "      <td>62.0</td>\n",
       "      <td>0</td>\n",
       "      <td>0</td>\n",
       "      <td>9.6875</td>\n",
       "      <td>1</td>\n",
       "    </tr>\n",
       "    <tr>\n",
       "      <th>3</th>\n",
       "      <td>895</td>\n",
       "      <td>0</td>\n",
       "      <td>3</td>\n",
       "      <td>male</td>\n",
       "      <td>27.0</td>\n",
       "      <td>0</td>\n",
       "      <td>0</td>\n",
       "      <td>8.6625</td>\n",
       "      <td>1</td>\n",
       "    </tr>\n",
       "    <tr>\n",
       "      <th>4</th>\n",
       "      <td>896</td>\n",
       "      <td>1</td>\n",
       "      <td>3</td>\n",
       "      <td>female</td>\n",
       "      <td>22.0</td>\n",
       "      <td>1</td>\n",
       "      <td>1</td>\n",
       "      <td>12.2875</td>\n",
       "      <td>0</td>\n",
       "    </tr>\n",
       "  </tbody>\n",
       "</table>\n",
       "</div>"
      ],
      "text/plain": [
       "   PassengerId  Survived  Pclass     Sex   Age  SibSp  Parch     Fare  IsAlone\n",
       "0          892         0       3    male  34.5      0      0   7.8292        1\n",
       "1          893         1       3  female  47.0      1      0   7.0000        0\n",
       "2          894         0       2    male  62.0      0      0   9.6875        1\n",
       "3          895         0       3    male  27.0      0      0   8.6625        1\n",
       "4          896         1       3  female  22.0      1      1  12.2875        0"
      ]
     },
     "execution_count": 227,
     "metadata": {},
     "output_type": "execute_result"
    }
   ],
   "source": [
    "df.head()"
   ]
  },
  {
   "cell_type": "markdown",
   "metadata": {},
   "source": [
    "# handling with missing value"
   ]
  },
  {
   "cell_type": "code",
   "execution_count": 228,
   "metadata": {},
   "outputs": [],
   "source": [
    "imputer = SimpleImputer(strategy='most_frequent') \n",
    "df['Age'] = imputer.fit_transform(df[ ['Age'] ])\n",
    "df['Fare'] = imputer.fit_transform(df[ ['Fare'] ])\n",
    "\n"
   ]
  },
  {
   "cell_type": "code",
   "execution_count": 229,
   "metadata": {},
   "outputs": [
    {
     "data": {
      "text/plain": [
       "PassengerId    0\n",
       "Survived       0\n",
       "Pclass         0\n",
       "Sex            0\n",
       "Age            0\n",
       "SibSp          0\n",
       "Parch          0\n",
       "Fare           0\n",
       "IsAlone        0\n",
       "dtype: int64"
      ]
     },
     "execution_count": 229,
     "metadata": {},
     "output_type": "execute_result"
    }
   ],
   "source": [
    "df.isna().sum()"
   ]
  },
  {
   "cell_type": "markdown",
   "metadata": {},
   "source": [
    "# handling with outliers"
   ]
  },
  {
   "cell_type": "code",
   "execution_count": 230,
   "metadata": {},
   "outputs": [
    {
     "data": {
      "text/plain": [
       "<Axes: xlabel='PassengerId'>"
      ]
     },
     "execution_count": 230,
     "metadata": {},
     "output_type": "execute_result"
    },
    {
     "data": {
      "image/png": "[encoded data removed]",
      "text/plain": [
       "<Figure size 640x480 with 1 Axes>"
      ]
     },
     "metadata": {},
     "output_type": "display_data"
    }
   ],
   "source": [
    "sns.boxenplot(x='PassengerId', data = df)"
   ]
  },
  {
   "cell_type": "code",
   "execution_count": 231,
   "metadata": {},
   "outputs": [
    {
     "data": {
      "text/plain": [
       "<Axes: xlabel='Age'>"
      ]
     },
     "execution_count": 231,
     "metadata": {},
     "output_type": "execute_result"
    },
    {
     "data": {
      "image/png": "[encoded data removed]",
      "text/plain": [
       "<Figure size 640x480 with 1 Axes>"
      ]
     },
     "metadata": {},
     "output_type": "display_data"
    }
   ],
   "source": [
    "sns.boxenplot(x='Age', data = df)"
   ]
  },
  {
   "cell_type": "code",
   "execution_count": 232,
   "metadata": {},
   "outputs": [
    {
     "data": {
      "text/plain": [
       "<Axes: xlabel='Fare'>"
      ]
     },
     "execution_count": 232,
     "metadata": {},
     "output_type": "execute_result"
    },
    {
     "data": {
      "image/png": "[encoded data removed]",
      "text/plain": [
       "<Figure size 640x480 with 1 Axes>"
      ]
     },
     "metadata": {},
     "output_type": "display_data"
    }
   ],
   "source": [
    "sns.boxenplot(x='Fare', data = df)"
   ]
  },
  {
   "cell_type": "code",
   "execution_count": 233,
   "metadata": {},
   "outputs": [
    {
     "name": "stdout",
     "output_type": "stream",
     "text": [
      "Outliers detected and dropped in PassengerId: 0\n",
      "Outliers detected and dropped in Survived: 0\n",
      "Outliers detected and dropped in Pclass: 0\n",
      "Outliers detected and dropped in Age: 16\n",
      "Outliers detected and dropped in SibSp: 11\n",
      "Outliers detected and dropped in Parch: 79\n",
      "Outliers detected and dropped in Fare: 37\n",
      "Outliers detected and dropped in IsAlone: 45\n"
     ]
    }
   ],
   "source": [
    "numeric_cols = df.select_dtypes(include=[np.number]).columns.tolist()\n",
    "\n",
    "for col in numeric_cols:\n",
    "    outliers = detect_outliers(df, 0, [col])\n",
    "    df.drop(outliers, inplace=True)\n",
    "    print(f'Outliers detected and dropped in {col}: {len(outliers)}')\n"
   ]
  },
  {
   "cell_type": "markdown",
   "metadata": {},
   "source": [
    "# Econding Categorical data"
   ]
  },
  {
   "cell_type": "code",
   "execution_count": 234,
   "metadata": {},
   "outputs": [
    {
     "name": "stdout",
     "output_type": "stream",
     "text": [
      "<class 'pandas.core.frame.DataFrame'>\n",
      "Int64Index: 230 entries, 0 to 416\n",
      "Data columns (total 9 columns):\n",
      " #   Column       Non-Null Count  Dtype  \n",
      "---  ------       --------------  -----  \n",
      " 0   PassengerId  230 non-null    int64  \n",
      " 1   Survived     230 non-null    int64  \n",
      " 2   Pclass       230 non-null    int64  \n",
      " 3   Sex          230 non-null    object \n",
      " 4   Age          230 non-null    float64\n",
      " 5   SibSp        230 non-null    int64  \n",
      " 6   Parch        230 non-null    int64  \n",
      " 7   Fare         230 non-null    float64\n",
      " 8   IsAlone      230 non-null    int64  \n",
      "dtypes: float64(2), int64(6), object(1)\n",
      "memory usage: 18.0+ KB\n"
     ]
    }
   ],
   "source": [
    "df.info()"
   ]
  },
  {
   "cell_type": "code",
   "execution_count": 235,
   "metadata": {},
   "outputs": [],
   "source": [
    "# Initialize the LabelEncoder\n",
    "label_encoder = LabelEncoder()\n",
    "\n",
    "df['Sex'] = label_encoder.fit_transform(df['Sex'])"
   ]
  },
  {
   "cell_type": "code",
   "execution_count": 236,
   "metadata": {},
   "outputs": [
    {
     "name": "stdout",
     "output_type": "stream",
     "text": [
      "<class 'pandas.core.frame.DataFrame'>\n",
      "Int64Index: 230 entries, 0 to 416\n",
      "Data columns (total 9 columns):\n",
      " #   Column       Non-Null Count  Dtype  \n",
      "---  ------       --------------  -----  \n",
      " 0   PassengerId  230 non-null    int64  \n",
      " 1   Survived     230 non-null    int64  \n",
      " 2   Pclass       230 non-null    int64  \n",
      " 3   Sex          230 non-null    int32  \n",
      " 4   Age          230 non-null    float64\n",
      " 5   SibSp        230 non-null    int64  \n",
      " 6   Parch        230 non-null    int64  \n",
      " 7   Fare         230 non-null    float64\n",
      " 8   IsAlone      230 non-null    int64  \n",
      "dtypes: float64(2), int32(1), int64(6)\n",
      "memory usage: 17.1 KB\n"
     ]
    }
   ],
   "source": [
    "df.info()"
   ]
  },
  {
   "cell_type": "code",
   "execution_count": 237,
   "metadata": {},
   "outputs": [
    {
     "data": {
      "text/html": [
       "<div>\n",
       "<style scoped>\n",
       "    .dataframe tbody tr th:only-of-type {\n",
       "        vertical-align: middle;\n",
       "    }\n",
       "\n",
       "    .dataframe tbody tr th {\n",
       "        vertical-align: top;\n",
       "    }\n",
       "\n",
       "    .dataframe thead th {\n",
       "        text-align: right;\n",
       "    }\n",
       "</style>\n",
       "<table border=\"1\" class=\"dataframe\">\n",
       "  <thead>\n",
       "    <tr style=\"text-align: right;\">\n",
       "      <th></th>\n",
       "      <th>PassengerId</th>\n",
       "      <th>Survived</th>\n",
       "      <th>Pclass</th>\n",
       "      <th>Sex</th>\n",
       "      <th>Age</th>\n",
       "      <th>SibSp</th>\n",
       "      <th>Parch</th>\n",
       "      <th>Fare</th>\n",
       "      <th>IsAlone</th>\n",
       "    </tr>\n",
       "  </thead>\n",
       "  <tbody>\n",
       "    <tr>\n",
       "      <th>0</th>\n",
       "      <td>892</td>\n",
       "      <td>0</td>\n",
       "      <td>3</td>\n",
       "      <td>1</td>\n",
       "      <td>34.5</td>\n",
       "      <td>0</td>\n",
       "      <td>0</td>\n",
       "      <td>7.8292</td>\n",
       "      <td>1</td>\n",
       "    </tr>\n",
       "    <tr>\n",
       "      <th>3</th>\n",
       "      <td>895</td>\n",
       "      <td>0</td>\n",
       "      <td>3</td>\n",
       "      <td>1</td>\n",
       "      <td>27.0</td>\n",
       "      <td>0</td>\n",
       "      <td>0</td>\n",
       "      <td>8.6625</td>\n",
       "      <td>1</td>\n",
       "    </tr>\n",
       "    <tr>\n",
       "      <th>5</th>\n",
       "      <td>897</td>\n",
       "      <td>0</td>\n",
       "      <td>3</td>\n",
       "      <td>1</td>\n",
       "      <td>14.0</td>\n",
       "      <td>0</td>\n",
       "      <td>0</td>\n",
       "      <td>9.2250</td>\n",
       "      <td>1</td>\n",
       "    </tr>\n",
       "    <tr>\n",
       "      <th>6</th>\n",
       "      <td>898</td>\n",
       "      <td>1</td>\n",
       "      <td>3</td>\n",
       "      <td>0</td>\n",
       "      <td>30.0</td>\n",
       "      <td>0</td>\n",
       "      <td>0</td>\n",
       "      <td>7.6292</td>\n",
       "      <td>1</td>\n",
       "    </tr>\n",
       "    <tr>\n",
       "      <th>8</th>\n",
       "      <td>900</td>\n",
       "      <td>1</td>\n",
       "      <td>3</td>\n",
       "      <td>0</td>\n",
       "      <td>18.0</td>\n",
       "      <td>0</td>\n",
       "      <td>0</td>\n",
       "      <td>7.2292</td>\n",
       "      <td>1</td>\n",
       "    </tr>\n",
       "  </tbody>\n",
       "</table>\n",
       "</div>"
      ],
      "text/plain": [
       "   PassengerId  Survived  Pclass  Sex   Age  SibSp  Parch    Fare  IsAlone\n",
       "0          892         0       3    1  34.5      0      0  7.8292        1\n",
       "3          895         0       3    1  27.0      0      0  8.6625        1\n",
       "5          897         0       3    1  14.0      0      0  9.2250        1\n",
       "6          898         1       3    0  30.0      0      0  7.6292        1\n",
       "8          900         1       3    0  18.0      0      0  7.2292        1"
      ]
     },
     "execution_count": 237,
     "metadata": {},
     "output_type": "execute_result"
    }
   ],
   "source": [
    "df.head()"
   ]
  },
  {
   "cell_type": "markdown",
   "metadata": {},
   "source": [
    "# split the data"
   ]
  },
  {
   "cell_type": "code",
   "execution_count": 238,
   "metadata": {},
   "outputs": [],
   "source": [
    "x = df.drop('Survived', axis=1)\n",
    "y = df['Survived']"
   ]
  },
  {
   "cell_type": "code",
   "execution_count": 257,
   "metadata": {},
   "outputs": [],
   "source": [
    "x_train, x_test, y_train, y_test = train_test_split(x, y,train_size=0.8 ,test_size=0.20, random_state=90)"
   ]
  },
  {
   "cell_type": "code",
   "execution_count": 258,
   "metadata": {},
   "outputs": [
    {
     "name": "stdout",
     "output_type": "stream",
     "text": [
      "x: (230, 8)\n",
      "y: (230,)\n",
      "\n",
      "x_train: (184, 8)\n",
      "x_test: (46, 8)\n",
      "\n",
      "y_train: (184,)\n",
      "y_test: (46,)\n"
     ]
    }
   ],
   "source": [
    "print(f\"x: {x.shape}\\ny: {y.shape}\\n\")\n",
    "print(f\"x_train: {x_train.shape}\\nx_test: {x_test.shape}\\n\\ny_train: {y_train.shape}\\ny_test: {y_test.shape}\")"
   ]
  },
  {
   "cell_type": "code",
   "execution_count": 259,
   "metadata": {},
   "outputs": [
    {
     "name": "stdout",
     "output_type": "stream",
     "text": [
      "184\n"
     ]
    }
   ],
   "source": [
    "print(len(x_train))"
   ]
  },
  {
   "cell_type": "code",
   "execution_count": 260,
   "metadata": {},
   "outputs": [
    {
     "data": {
      "text/plain": [
       "0    137\n",
       "1     47\n",
       "Name: Survived, dtype: int64"
      ]
     },
     "execution_count": 260,
     "metadata": {},
     "output_type": "execute_result"
    }
   ],
   "source": [
    "y_train.value_counts()"
   ]
  },
  {
   "cell_type": "code",
   "execution_count": 242,
   "metadata": {},
   "outputs": [],
   "source": [
    "#sammpler = SMOTE(random_state=80)\n",
    "#x_train, y_train = sammpler.fit_resample(x_train, y_train)"
   ]
  },
  {
   "cell_type": "code",
   "execution_count": 243,
   "metadata": {},
   "outputs": [],
   "source": [
    "#y_train.value_counts()"
   ]
  },
  {
   "cell_type": "markdown",
   "metadata": {},
   "source": [
    "# Feature Scaling"
   ]
  },
  {
   "cell_type": "code",
   "execution_count": 244,
   "metadata": {},
   "outputs": [],
   "source": [
    "scaler = StandardScaler()\n",
    "scaler.fit(x_train)\n",
    "x_train = scaler.transform(x_train)\n",
    "x_test = scaler.transform(x_test)"
   ]
  },
  {
   "cell_type": "markdown",
   "metadata": {},
   "source": [
    "# 3- **Build the Model**"
   ]
  },
  {
   "cell_type": "code",
   "execution_count": 245,
   "metadata": {},
   "outputs": [],
   "source": [
    "models = {\n",
    "    \"LR\": LogisticRegression(max_iter=2000),\n",
    "    \"KNN\": KNeighborsClassifier(),\n",
    "    \"SVC\": SVC(),\n",
    "    \"DT\": DecisionTreeClassifier(),\n",
    "    \"RF\": RandomForestClassifier(),\n",
    "}"
   ]
  },
  {
   "cell_type": "code",
   "execution_count": 246,
   "metadata": {},
   "outputs": [
    {
     "name": "stdout",
     "output_type": "stream",
     "text": [
      "Training Model LR \n",
      "--------------\n",
      "\n",
      "Training Accuracy: 1.0\n",
      "Testing Accuracy: 1.0\n",
      "\n",
      "Testing Confusion Matrix: \n",
      "[[36  0]\n",
      " [ 0 10]]\n",
      "\n",
      "              precision    recall  f1-score   support\n",
      "\n",
      "           0       1.00      1.00      1.00        36\n",
      "           1       1.00      1.00      1.00        10\n",
      "\n",
      "    accuracy                           1.00        46\n",
      "   macro avg       1.00      1.00      1.00        46\n",
      "weighted avg       1.00      1.00      1.00        46\n",
      "\n",
      "************************************************** \n",
      "\n",
      "Training Model KNN \n",
      "--------------\n",
      "\n",
      "Training Accuracy: 1.0\n",
      "Testing Accuracy: 1.0\n",
      "\n",
      "Testing Confusion Matrix: \n",
      "[[36  0]\n",
      " [ 0 10]]\n",
      "\n",
      "              precision    recall  f1-score   support\n",
      "\n",
      "           0       1.00      1.00      1.00        36\n",
      "           1       1.00      1.00      1.00        10\n",
      "\n",
      "    accuracy                           1.00        46\n",
      "   macro avg       1.00      1.00      1.00        46\n",
      "weighted avg       1.00      1.00      1.00        46\n",
      "\n",
      "************************************************** \n",
      "\n",
      "Training Model SVC \n",
      "--------------\n",
      "\n",
      "Training Accuracy: 1.0\n",
      "Testing Accuracy: 1.0\n",
      "\n",
      "Testing Confusion Matrix: \n",
      "[[36  0]\n",
      " [ 0 10]]\n",
      "\n",
      "              precision    recall  f1-score   support\n",
      "\n",
      "           0       1.00      1.00      1.00        36\n",
      "           1       1.00      1.00      1.00        10\n",
      "\n",
      "    accuracy                           1.00        46\n",
      "   macro avg       1.00      1.00      1.00        46\n",
      "weighted avg       1.00      1.00      1.00        46\n",
      "\n",
      "************************************************** \n",
      "\n",
      "Training Model DT \n",
      "--------------\n",
      "\n",
      "Training Accuracy: 1.0\n",
      "Testing Accuracy: 1.0\n",
      "\n",
      "Testing Confusion Matrix: \n",
      "[[36  0]\n",
      " [ 0 10]]\n",
      "\n",
      "              precision    recall  f1-score   support\n",
      "\n",
      "           0       1.00      1.00      1.00        36\n",
      "           1       1.00      1.00      1.00        10\n",
      "\n",
      "    accuracy                           1.00        46\n",
      "   macro avg       1.00      1.00      1.00        46\n",
      "weighted avg       1.00      1.00      1.00        46\n",
      "\n",
      "************************************************** \n",
      "\n",
      "Training Model RF \n",
      "--------------\n",
      "\n",
      "Training Accuracy: 1.0\n",
      "Testing Accuracy: 1.0\n",
      "\n",
      "Testing Confusion Matrix: \n",
      "[[36  0]\n",
      " [ 0 10]]\n",
      "\n",
      "              precision    recall  f1-score   support\n",
      "\n",
      "           0       1.00      1.00      1.00        36\n",
      "           1       1.00      1.00      1.00        10\n",
      "\n",
      "    accuracy                           1.00        46\n",
      "   macro avg       1.00      1.00      1.00        46\n",
      "weighted avg       1.00      1.00      1.00        46\n",
      "\n",
      "************************************************** \n",
      "\n"
     ]
    }
   ],
   "source": [
    "for name, model in models.items():\n",
    "    print(f'Training Model {name} \\n--------------\\n')\n",
    "    model.fit(x_train, y_train)\n",
    "    y_pred = model.predict(x_test)\n",
    "    print(\n",
    "        f'Training Accuracy: {accuracy_score(y_train, model.predict(x_train))}')\n",
    "    print(f'Testing Accuracy: {accuracy_score(y_test, y_pred)}\\n')\n",
    "    print(f'Testing Confusion Matrix: \\n{confusion_matrix(y_test, y_pred)}\\n')\n",
    "    print(classification_report(y_test, y_pred))\n",
    "    print('*'*50, '\\n')"
   ]
  },
  {
   "cell_type": "markdown",
   "metadata": {},
   "source": [
    "#  Final  model"
   ]
  },
  {
   "cell_type": "code",
   "execution_count": 247,
   "metadata": {},
   "outputs": [
    {
     "name": "stdout",
     "output_type": "stream",
     "text": [
      "Training Accuracy: 1.0\n",
      "Testing Accuracy: 1.0\n"
     ]
    }
   ],
   "source": [
    "model = RandomForestClassifier()\n",
    "model.fit(x_train, y_train)\n",
    "y_pred = model.predict(x_test)\n",
    "print(f'Training Accuracy: {accuracy_score(y_train, model.predict(x_train))}')\n",
    "print(f'Testing Accuracy: {accuracy_score(y_test, y_pred)}')"
   ]
  },
  {
   "cell_type": "markdown",
   "metadata": {},
   "source": [
    "# Save the model"
   ]
  },
  {
   "cell_type": "code",
   "execution_count": 248,
   "metadata": {},
   "outputs": [],
   "source": [
    "with open('model.pkl', 'wb') as model_file: \n",
    "    pickle.dump(model, model_file)\n",
    "\n",
    "# Save the scaler\n",
    "with open('scaler.pkl', 'wb') as scaler_file:\n",
    "    pickle.dump(scaler, scaler_file)"
   ]
  },
  {
   "cell_type": "markdown",
   "metadata": {},
   "source": [
    "# **Tester Prediction**"
   ]
  },
  {
   "cell_type": "code",
   "execution_count": 249,
   "metadata": {},
   "outputs": [
    {
     "data": {
      "text/plain": [
       "array([0, 0, 0, 0, 0, 0, 0, 0, 0, 1, 0, 0, 0, 0, 0, 0, 0, 0, 0, 0, 0, 0,\n",
       "       0, 1, 0, 1, 0, 0, 0, 1, 0, 0, 1, 0, 0, 1, 1, 0, 0, 0, 0, 0, 1, 0,\n",
       "       0, 0, 0, 0, 0, 0, 0, 0, 0, 1, 0, 0, 1, 0, 1, 0, 0, 0, 0, 0, 1, 1,\n",
       "       0, 0, 1, 1, 1, 0, 0, 0, 0, 0, 0, 0, 0, 0, 1, 0, 0, 1, 0, 0, 1, 0,\n",
       "       0, 0, 1, 1, 0, 1, 0, 0, 0, 1, 0, 0, 0, 0, 0, 1, 0, 0, 0, 0, 1, 0,\n",
       "       0, 1, 0, 0, 0, 0, 1, 1, 0, 0, 0, 0, 0, 0, 1, 0, 1, 0, 0, 0, 0, 1,\n",
       "       0, 0, 0, 1, 0, 0, 0, 0, 0, 1, 1, 1, 0, 0, 0, 0, 1, 1, 1, 0, 0, 0,\n",
       "       0, 1, 0, 1, 0, 0, 0, 1, 0, 0, 0, 0, 0, 1, 0, 0, 1, 0, 0, 0, 0, 1,\n",
       "       0, 1, 0, 1, 0, 1, 0, 0], dtype=int64)"
      ]
     },
     "execution_count": 249,
     "metadata": {},
     "output_type": "execute_result"
    }
   ],
   "source": [
    "y_pred = model.predict(x_train)\n",
    "y_pred"
   ]
  },
  {
   "cell_type": "code",
   "execution_count": 250,
   "metadata": {},
   "outputs": [],
   "source": [
    "sub = pd.read_csv('submission.csv')"
   ]
  },
  {
   "cell_type": "code",
   "execution_count": 251,
   "metadata": {},
   "outputs": [
    {
     "name": "stdout",
     "output_type": "stream",
     "text": [
      "418\n",
      "184\n"
     ]
    }
   ],
   "source": [
    "print(len(sub))\n",
    "print(len(y_pred))\n",
    "\n"
   ]
  },
  {
   "cell_type": "code",
   "execution_count": 252,
   "metadata": {},
   "outputs": [
    {
     "ename": "ValueError",
     "evalue": "Length of values (184) does not match length of index (418)",
     "output_type": "error",
     "traceback": [
      "\u001b[1;31m---------------------------------------------------------------------------\u001b[0m",
      "\u001b[1;31mValueError\u001b[0m                                Traceback (most recent call last)",
      "Cell \u001b[1;32mIn[252], line 1\u001b[0m\n\u001b[1;32m----> 1\u001b[0m sub[\u001b[38;5;124m'\u001b[39m\u001b[38;5;124mSurvived\u001b[39m\u001b[38;5;124m'\u001b[39m] \u001b[38;5;241m=\u001b[39m y_pred\n",
      "File \u001b[1;32mc:\\Users\\HP\\anaconda3\\Lib\\site-packages\\pandas\\core\\frame.py:3980\u001b[0m, in \u001b[0;36mDataFrame.__setitem__\u001b[1;34m(self, key, value)\u001b[0m\n\u001b[0;32m   3977\u001b[0m     \u001b[38;5;28mself\u001b[39m\u001b[38;5;241m.\u001b[39m_setitem_array([key], value)\n\u001b[0;32m   3978\u001b[0m \u001b[38;5;28;01melse\u001b[39;00m:\n\u001b[0;32m   3979\u001b[0m     \u001b[38;5;66;03m# set column\u001b[39;00m\n\u001b[1;32m-> 3980\u001b[0m     \u001b[38;5;28mself\u001b[39m\u001b[38;5;241m.\u001b[39m_set_item(key, value)\n",
      "File \u001b[1;32mc:\\Users\\HP\\anaconda3\\Lib\\site-packages\\pandas\\core\\frame.py:4174\u001b[0m, in \u001b[0;36mDataFrame._set_item\u001b[1;34m(self, key, value)\u001b[0m\n\u001b[0;32m   4164\u001b[0m \u001b[38;5;28;01mdef\u001b[39;00m \u001b[38;5;21m_set_item\u001b[39m(\u001b[38;5;28mself\u001b[39m, key, value) \u001b[38;5;241m-\u001b[39m\u001b[38;5;241m>\u001b[39m \u001b[38;5;28;01mNone\u001b[39;00m:\n\u001b[0;32m   4165\u001b[0m \u001b[38;5;250m    \u001b[39m\u001b[38;5;124;03m\"\"\"\u001b[39;00m\n\u001b[0;32m   4166\u001b[0m \u001b[38;5;124;03m    Add series to DataFrame in specified column.\u001b[39;00m\n\u001b[0;32m   4167\u001b[0m \n\u001b[1;32m   (...)\u001b[0m\n\u001b[0;32m   4172\u001b[0m \u001b[38;5;124;03m    ensure homogeneity.\u001b[39;00m\n\u001b[0;32m   4173\u001b[0m \u001b[38;5;124;03m    \"\"\"\u001b[39;00m\n\u001b[1;32m-> 4174\u001b[0m     value \u001b[38;5;241m=\u001b[39m \u001b[38;5;28mself\u001b[39m\u001b[38;5;241m.\u001b[39m_sanitize_column(value)\n\u001b[0;32m   4176\u001b[0m     \u001b[38;5;28;01mif\u001b[39;00m (\n\u001b[0;32m   4177\u001b[0m         key \u001b[38;5;129;01min\u001b[39;00m \u001b[38;5;28mself\u001b[39m\u001b[38;5;241m.\u001b[39mcolumns\n\u001b[0;32m   4178\u001b[0m         \u001b[38;5;129;01mand\u001b[39;00m value\u001b[38;5;241m.\u001b[39mndim \u001b[38;5;241m==\u001b[39m \u001b[38;5;241m1\u001b[39m\n\u001b[0;32m   4179\u001b[0m         \u001b[38;5;129;01mand\u001b[39;00m \u001b[38;5;129;01mnot\u001b[39;00m is_extension_array_dtype(value)\n\u001b[0;32m   4180\u001b[0m     ):\n\u001b[0;32m   4181\u001b[0m         \u001b[38;5;66;03m# broadcast across multiple columns if necessary\u001b[39;00m\n\u001b[0;32m   4182\u001b[0m         \u001b[38;5;28;01mif\u001b[39;00m \u001b[38;5;129;01mnot\u001b[39;00m \u001b[38;5;28mself\u001b[39m\u001b[38;5;241m.\u001b[39mcolumns\u001b[38;5;241m.\u001b[39mis_unique \u001b[38;5;129;01mor\u001b[39;00m \u001b[38;5;28misinstance\u001b[39m(\u001b[38;5;28mself\u001b[39m\u001b[38;5;241m.\u001b[39mcolumns, MultiIndex):\n",
      "File \u001b[1;32mc:\\Users\\HP\\anaconda3\\Lib\\site-packages\\pandas\\core\\frame.py:4915\u001b[0m, in \u001b[0;36mDataFrame._sanitize_column\u001b[1;34m(self, value)\u001b[0m\n\u001b[0;32m   4912\u001b[0m     \u001b[38;5;28;01mreturn\u001b[39;00m _reindex_for_setitem(Series(value), \u001b[38;5;28mself\u001b[39m\u001b[38;5;241m.\u001b[39mindex)\n\u001b[0;32m   4914\u001b[0m \u001b[38;5;28;01mif\u001b[39;00m is_list_like(value):\n\u001b[1;32m-> 4915\u001b[0m     com\u001b[38;5;241m.\u001b[39mrequire_length_match(value, \u001b[38;5;28mself\u001b[39m\u001b[38;5;241m.\u001b[39mindex)\n\u001b[0;32m   4916\u001b[0m \u001b[38;5;28;01mreturn\u001b[39;00m sanitize_array(value, \u001b[38;5;28mself\u001b[39m\u001b[38;5;241m.\u001b[39mindex, copy\u001b[38;5;241m=\u001b[39m\u001b[38;5;28;01mTrue\u001b[39;00m, allow_2d\u001b[38;5;241m=\u001b[39m\u001b[38;5;28;01mTrue\u001b[39;00m)\n",
      "File \u001b[1;32mc:\\Users\\HP\\anaconda3\\Lib\\site-packages\\pandas\\core\\common.py:571\u001b[0m, in \u001b[0;36mrequire_length_match\u001b[1;34m(data, index)\u001b[0m\n\u001b[0;32m    567\u001b[0m \u001b[38;5;250m\u001b[39m\u001b[38;5;124;03m\"\"\"\u001b[39;00m\n\u001b[0;32m    568\u001b[0m \u001b[38;5;124;03mCheck the length of data matches the length of the index.\u001b[39;00m\n\u001b[0;32m    569\u001b[0m \u001b[38;5;124;03m\"\"\"\u001b[39;00m\n\u001b[0;32m    570\u001b[0m \u001b[38;5;28;01mif\u001b[39;00m \u001b[38;5;28mlen\u001b[39m(data) \u001b[38;5;241m!=\u001b[39m \u001b[38;5;28mlen\u001b[39m(index):\n\u001b[1;32m--> 571\u001b[0m     \u001b[38;5;28;01mraise\u001b[39;00m \u001b[38;5;167;01mValueError\u001b[39;00m(\n\u001b[0;32m    572\u001b[0m         \u001b[38;5;124m\"\u001b[39m\u001b[38;5;124mLength of values \u001b[39m\u001b[38;5;124m\"\u001b[39m\n\u001b[0;32m    573\u001b[0m         \u001b[38;5;124mf\u001b[39m\u001b[38;5;124m\"\u001b[39m\u001b[38;5;124m(\u001b[39m\u001b[38;5;132;01m{\u001b[39;00m\u001b[38;5;28mlen\u001b[39m(data)\u001b[38;5;132;01m}\u001b[39;00m\u001b[38;5;124m) \u001b[39m\u001b[38;5;124m\"\u001b[39m\n\u001b[0;32m    574\u001b[0m         \u001b[38;5;124m\"\u001b[39m\u001b[38;5;124mdoes not match length of index \u001b[39m\u001b[38;5;124m\"\u001b[39m\n\u001b[0;32m    575\u001b[0m         \u001b[38;5;124mf\u001b[39m\u001b[38;5;124m\"\u001b[39m\u001b[38;5;124m(\u001b[39m\u001b[38;5;132;01m{\u001b[39;00m\u001b[38;5;28mlen\u001b[39m(index)\u001b[38;5;132;01m}\u001b[39;00m\u001b[38;5;124m)\u001b[39m\u001b[38;5;124m\"\u001b[39m\n\u001b[0;32m    576\u001b[0m     )\n",
      "\u001b[1;31mValueError\u001b[0m: Length of values (184) does not match length of index (418)"
     ]
    }
   ],
   "source": [
    "sub['Survived'] = y_pred"
   ]
  },
  {
   "cell_type": "code",
   "execution_count": null,
   "metadata": {},
   "outputs": [],
   "source": [
    "sub.head()"
   ]
  }
 ],
 "metadata": {
  "kernelspec": {
   "display_name": "ml",
   "language": "python",
   "name": "ml"
  },
  "language_info": {
   "codemirror_mode": {
    "name": "ipython",
    "version": 3
   },
   "file_extension": ".py",
   "mimetype": "text/x-python",
   "name": "python",
   "nbconvert_exporter": "python",
   "pygments_lexer": "ipython3",
   "version": "3.11.7"
  }
 },
 "nbformat": 4,
 "nbformat_minor": 2
}
